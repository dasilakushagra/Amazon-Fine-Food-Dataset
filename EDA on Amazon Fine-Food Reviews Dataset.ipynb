{
 "cells": [
  {
   "cell_type": "markdown",
   "metadata": {},
   "source": [
    "### Amazon Fine-Food Reviews Dataset\n",
    "\n",
    "## Summary of the dataset:\n",
    "\n",
    "* The data consist of 568454 rows and 10 columns.\n",
    "\n",
    "* The data consist of following information.\n",
    "    * The unique id of each product(ProductId)\n",
    "    * Unique Id of each user(UserId)\n",
    "    * a rating from 1 to 5(Score)\n",
    "    * time at which review was posted(Time)\n",
    "    * summary of the review given(Summary)\n",
    "    * review given by the customer(Text)\n",
    "* Columns that were removed.\n",
    "    * profile name - (the nick name of the user)\n",
    "    * Helpfulness numerator - (was the review helpful to others)\n",
    "    * Helpfulness denominator - (helpfull+ not helpful)\n",
    "    \n",
    "* Column Data-types:\n",
    "    * ProductId - object type\n",
    "    * UserId - object type\n",
    "    * Score - int(1-5)\n",
    "    * Time - time stamp\n",
    "    * summary - text data\n",
    "    * text - text data\n",
    "* There are 27 null values in summary column and else everything is non-null."
   ]
  },
  {
   "cell_type": "code",
   "execution_count": 1,
   "metadata": {},
   "outputs": [],
   "source": [
    "import numpy as np\n",
    "from tqdm import tqdm\n",
    "import matplotlib.pyplot as plt\n",
    "import seaborn as sns\n",
    "sns.set()"
   ]
  },
  {
   "cell_type": "code",
   "execution_count": 2,
   "metadata": {},
   "outputs": [],
   "source": [
    "#importing dataset\n",
    "import pandas as pd\n",
    "df=pd.read_csv(r\"D:\\study material\\ML\\Datasets\\amazon-fine-food-reviews\\Reviews.csv\",nrows=50000)"
   ]
  },
  {
   "cell_type": "code",
   "execution_count": 3,
   "metadata": {},
   "outputs": [
    {
     "data": {
      "text/html": [
       "<div>\n",
       "<style scoped>\n",
       "    .dataframe tbody tr th:only-of-type {\n",
       "        vertical-align: middle;\n",
       "    }\n",
       "\n",
       "    .dataframe tbody tr th {\n",
       "        vertical-align: top;\n",
       "    }\n",
       "\n",
       "    .dataframe thead th {\n",
       "        text-align: right;\n",
       "    }\n",
       "</style>\n",
       "<table border=\"1\" class=\"dataframe\">\n",
       "  <thead>\n",
       "    <tr style=\"text-align: right;\">\n",
       "      <th></th>\n",
       "      <th>Id</th>\n",
       "      <th>ProductId</th>\n",
       "      <th>UserId</th>\n",
       "      <th>ProfileName</th>\n",
       "      <th>HelpfulnessNumerator</th>\n",
       "      <th>HelpfulnessDenominator</th>\n",
       "      <th>Score</th>\n",
       "      <th>Time</th>\n",
       "      <th>Summary</th>\n",
       "      <th>Text</th>\n",
       "    </tr>\n",
       "  </thead>\n",
       "  <tbody>\n",
       "    <tr>\n",
       "      <th>0</th>\n",
       "      <td>1</td>\n",
       "      <td>B001E4KFG0</td>\n",
       "      <td>A3SGXH7AUHU8GW</td>\n",
       "      <td>delmartian</td>\n",
       "      <td>1</td>\n",
       "      <td>1</td>\n",
       "      <td>5</td>\n",
       "      <td>1303862400</td>\n",
       "      <td>Good Quality Dog Food</td>\n",
       "      <td>I have bought several of the Vitality canned d...</td>\n",
       "    </tr>\n",
       "    <tr>\n",
       "      <th>1</th>\n",
       "      <td>2</td>\n",
       "      <td>B00813GRG4</td>\n",
       "      <td>A1D87F6ZCVE5NK</td>\n",
       "      <td>dll pa</td>\n",
       "      <td>0</td>\n",
       "      <td>0</td>\n",
       "      <td>1</td>\n",
       "      <td>1346976000</td>\n",
       "      <td>Not as Advertised</td>\n",
       "      <td>Product arrived labeled as Jumbo Salted Peanut...</td>\n",
       "    </tr>\n",
       "    <tr>\n",
       "      <th>2</th>\n",
       "      <td>3</td>\n",
       "      <td>B000LQOCH0</td>\n",
       "      <td>ABXLMWJIXXAIN</td>\n",
       "      <td>Natalia Corres \"Natalia Corres\"</td>\n",
       "      <td>1</td>\n",
       "      <td>1</td>\n",
       "      <td>4</td>\n",
       "      <td>1219017600</td>\n",
       "      <td>\"Delight\" says it all</td>\n",
       "      <td>This is a confection that has been around a fe...</td>\n",
       "    </tr>\n",
       "    <tr>\n",
       "      <th>3</th>\n",
       "      <td>4</td>\n",
       "      <td>B000UA0QIQ</td>\n",
       "      <td>A395BORC6FGVXV</td>\n",
       "      <td>Karl</td>\n",
       "      <td>3</td>\n",
       "      <td>3</td>\n",
       "      <td>2</td>\n",
       "      <td>1307923200</td>\n",
       "      <td>Cough Medicine</td>\n",
       "      <td>If you are looking for the secret ingredient i...</td>\n",
       "    </tr>\n",
       "    <tr>\n",
       "      <th>4</th>\n",
       "      <td>5</td>\n",
       "      <td>B006K2ZZ7K</td>\n",
       "      <td>A1UQRSCLF8GW1T</td>\n",
       "      <td>Michael D. Bigham \"M. Wassir\"</td>\n",
       "      <td>0</td>\n",
       "      <td>0</td>\n",
       "      <td>5</td>\n",
       "      <td>1350777600</td>\n",
       "      <td>Great taffy</td>\n",
       "      <td>Great taffy at a great price.  There was a wid...</td>\n",
       "    </tr>\n",
       "  </tbody>\n",
       "</table>\n",
       "</div>"
      ],
      "text/plain": [
       "   Id   ProductId          UserId                      ProfileName  \\\n",
       "0   1  B001E4KFG0  A3SGXH7AUHU8GW                       delmartian   \n",
       "1   2  B00813GRG4  A1D87F6ZCVE5NK                           dll pa   \n",
       "2   3  B000LQOCH0   ABXLMWJIXXAIN  Natalia Corres \"Natalia Corres\"   \n",
       "3   4  B000UA0QIQ  A395BORC6FGVXV                             Karl   \n",
       "4   5  B006K2ZZ7K  A1UQRSCLF8GW1T    Michael D. Bigham \"M. Wassir\"   \n",
       "\n",
       "   HelpfulnessNumerator  HelpfulnessDenominator  Score        Time  \\\n",
       "0                     1                       1      5  1303862400   \n",
       "1                     0                       0      1  1346976000   \n",
       "2                     1                       1      4  1219017600   \n",
       "3                     3                       3      2  1307923200   \n",
       "4                     0                       0      5  1350777600   \n",
       "\n",
       "                 Summary                                               Text  \n",
       "0  Good Quality Dog Food  I have bought several of the Vitality canned d...  \n",
       "1      Not as Advertised  Product arrived labeled as Jumbo Salted Peanut...  \n",
       "2  \"Delight\" says it all  This is a confection that has been around a fe...  \n",
       "3         Cough Medicine  If you are looking for the secret ingredient i...  \n",
       "4            Great taffy  Great taffy at a great price.  There was a wid...  "
      ]
     },
     "execution_count": 3,
     "metadata": {},
     "output_type": "execute_result"
    }
   ],
   "source": [
    "df.head()"
   ]
  },
  {
   "cell_type": "code",
   "execution_count": 4,
   "metadata": {},
   "outputs": [
    {
     "name": "stdout",
     "output_type": "stream",
     "text": [
      "<class 'pandas.core.frame.DataFrame'>\n",
      "RangeIndex: 50000 entries, 0 to 49999\n",
      "Data columns (total 10 columns):\n",
      "Id                        50000 non-null int64\n",
      "ProductId                 50000 non-null object\n",
      "UserId                    50000 non-null object\n",
      "ProfileName               49997 non-null object\n",
      "HelpfulnessNumerator      50000 non-null int64\n",
      "HelpfulnessDenominator    50000 non-null int64\n",
      "Score                     50000 non-null int64\n",
      "Time                      50000 non-null int64\n",
      "Summary                   49998 non-null object\n",
      "Text                      50000 non-null object\n",
      "dtypes: int64(5), object(5)\n",
      "memory usage: 3.8+ MB\n"
     ]
    }
   ],
   "source": [
    "df.info()"
   ]
  },
  {
   "cell_type": "code",
   "execution_count": 5,
   "metadata": {},
   "outputs": [
    {
     "data": {
      "text/plain": [
       "Id                        0\n",
       "ProductId                 0\n",
       "UserId                    0\n",
       "ProfileName               3\n",
       "HelpfulnessNumerator      0\n",
       "HelpfulnessDenominator    0\n",
       "Score                     0\n",
       "Time                      0\n",
       "Summary                   2\n",
       "Text                      0\n",
       "dtype: int64"
      ]
     },
     "execution_count": 5,
     "metadata": {},
     "output_type": "execute_result"
    }
   ],
   "source": [
    "import numpy as np\n",
    "np.sum(df.isna())"
   ]
  },
  {
   "cell_type": "code",
   "execution_count": 6,
   "metadata": {},
   "outputs": [],
   "source": [
    "df=df.drop('Id',axis=1)"
   ]
  },
  {
   "cell_type": "code",
   "execution_count": 7,
   "metadata": {},
   "outputs": [
    {
     "data": {
      "text/plain": [
       "(50000, 9)"
      ]
     },
     "execution_count": 7,
     "metadata": {},
     "output_type": "execute_result"
    }
   ],
   "source": [
    "df.shape"
   ]
  },
  {
   "cell_type": "markdown",
   "metadata": {},
   "source": [
    "##  Now performing basic Exploratory data analyis on the datasets"
   ]
  },
  {
   "cell_type": "markdown",
   "metadata": {},
   "source": [
    "## 1. Distribution of Ratings."
   ]
  },
  {
   "cell_type": "code",
   "execution_count": 8,
   "metadata": {
    "scrolled": true
   },
   "outputs": [
    {
     "data": {
      "image/png": "[encoded data removed]",
      "text/plain": [
       "<Figure size 432x288 with 1 Axes>"
      ]
     },
     "metadata": {
      "needs_background": "light"
     },
     "output_type": "display_data"
    }
   ],
   "source": [
    "ax=sns.countplot(data=df,x='Score',ax=plt.axes(ylim=(0,100)))\n",
    "for i in ax.patches:\n",
    "    i.set_height((i.get_height()/len(df))*100)\n",
    "    ax.text(i.get_x()+i.get_width()/2,\n",
    "            i.get_height()+1,\n",
    "            '{}'.format(round(i.get_height())),\n",
    "            ha='center')"
   ]
  },
  {
   "cell_type": "markdown",
   "metadata": {},
   "source": [
    "## Observation:\n",
    "1. 60% (approx.) of the reviews have rating 5.\n",
    "2. 15% (approx.) of the reviews have rating 4.\n",
    "3. <25% of the reviews have rating 3 or less."
   ]
  },
  {
   "cell_type": "markdown",
   "metadata": {},
   "source": [
    "## 2. HelpfullNess\n",
    "\n",
    "* A review that is more helpful appears on top so I need to check helpfullness also."
   ]
  },
  {
   "cell_type": "code",
   "execution_count": 9,
   "metadata": {},
   "outputs": [],
   "source": [
    "# removing non-ueful column \n",
    "df[df['HelpfulnessNumerator']>df['HelpfulnessDenominator']]\n",
    "try:\n",
    "    df=df.drop([44736,64421],axis=0)\n",
    "except:\n",
    "    pass"
   ]
  },
  {
   "cell_type": "code",
   "execution_count": 10,
   "metadata": {},
   "outputs": [
    {
     "name": "stdout",
     "output_type": "stream",
     "text": [
      "About 48.46 % data is not at all useful beacuse it is neither helpful nor not helpful\n"
     ]
    }
   ],
   "source": [
    "#not useful data\n",
    "m=df[(df['HelpfulnessNumerator']==0)&(df['HelpfulnessDenominator']==0)]\n",
    "print('About {:.2f} % data is not at all useful beacuse it is neither helpful nor not helpful'.format((len(m)/len(df)*100)))"
   ]
  },
  {
   "cell_type": "code",
   "execution_count": 11,
   "metadata": {},
   "outputs": [
    {
     "name": "stdout",
     "output_type": "stream",
     "text": [
      "About 51.54 % data is useful beacuse it is either helpful or not helpful\n"
     ]
    }
   ],
   "source": [
    "#useful data\n",
    "o=df[((df['HelpfulnessNumerator']<=df['HelpfulnessDenominator'])&\n",
    "     ((df['HelpfulnessNumerator']!=0)&(df['HelpfulnessDenominator']!=0)))|\n",
    "     ((df['HelpfulnessNumerator']==0) &(df['HelpfulnessDenominator']!=0))]\n",
    "print('About {:.2f} % data is useful beacuse it is either helpful or not helpful'.format(len(o)/len(df)*100))"
   ]
  },
  {
   "cell_type": "code",
   "execution_count": 12,
   "metadata": {},
   "outputs": [],
   "source": [
    "# adding a new column that is percentage of helpfulness\n",
    "df['Perc_help']=o['HelpfulnessNumerator']/o['HelpfulnessDenominator']*100"
   ]
  },
  {
   "cell_type": "code",
   "execution_count": 13,
   "metadata": {},
   "outputs": [],
   "source": [
    "df.fillna(-1,inplace=True)"
   ]
  },
  {
   "cell_type": "code",
   "execution_count": 14,
   "metadata": {},
   "outputs": [],
   "source": [
    "import math\n",
    "df['Perc_help']=df['Perc_help'].apply(int)"
   ]
  },
  {
   "cell_type": "code",
   "execution_count": 15,
   "metadata": {},
   "outputs": [],
   "source": [
    "#diving the data into four parts\n",
    "arr=[]\n",
    "for i in df.Perc_help:\n",
    "    if i>75:\n",
    "        arr.append('>75%')\n",
    "    elif i<=75 and i>=25:\n",
    "        arr.append('25-75%')\n",
    "    elif i>=0 and i<25:\n",
    "        arr.append('<25%')\n",
    "    else:\n",
    "        arr.append('Not mentioned')\n",
    "df['Perc_help']=arr\n",
    "        "
   ]
  },
  {
   "cell_type": "code",
   "execution_count": 16,
   "metadata": {},
   "outputs": [
    {
     "data": {
      "image/png": "[encoded data removed]",
      "text/plain": [
       "<Figure size 432x288 with 1 Axes>"
      ]
     },
     "metadata": {
      "needs_background": "light"
     },
     "output_type": "display_data"
    }
   ],
   "source": [
    "ax=sns.countplot(x='Perc_help',data=df,order=['<25%','25-75%','>75%','Not mentioned'][::-1],ax=plt.axes(ylim=(0,100)))\n",
    "import math\n",
    "for i in ax.patches:\n",
    "    i.set_height((i.get_height()/len(df)*100))\n",
    "    ax.text(i.get_x()+i.get_width()/2,i.get_height()+1,'{:.2f}'.format(i.get_height()),ha='center')"
   ]
  },
  {
   "cell_type": "code",
   "execution_count": 17,
   "metadata": {},
   "outputs": [],
   "source": [
    "#categorizing the data into helpful, not helpful and cannot say\n",
    "arr=[]\n",
    "for i in df['Perc_help']:\n",
    "    if i=='<25%':\n",
    "        arr.append('Not Helpful')\n",
    "    elif i=='>75%':\n",
    "        arr.append('Helpful')\n",
    "    elif i=='25-75%':\n",
    "        arr.append('cannot say')\n",
    "    else:\n",
    "        arr.append(0)\n",
    "df['Help']=arr"
   ]
  },
  {
   "cell_type": "code",
   "execution_count": 18,
   "metadata": {},
   "outputs": [
    {
     "data": {
      "image/png": "[encoded data removed]",
      "text/plain": [
       "<Figure size 432x288 with 1 Axes>"
      ]
     },
     "metadata": {
      "needs_background": "light"
     },
     "output_type": "display_data"
    }
   ],
   "source": [
    "# creating the plot and adding labels to the plot rectangle \n",
    "ax=sns.countplot('Score',hue='Help',data=df[(df['Help']!=0)&(df['Help']!='cannot say')],ax=plt.axes(ylim=(0,100)))\n",
    "for i in range(10):\n",
    "    if i==0 or i==5:\n",
    "        l=len(df[(df['Score']==1) & (df['Help']!=0)])\n",
    "    elif i==1 or i==6:\n",
    "        l=len(df[(df['Score']==2) & (df['Help']!=0)])\n",
    "    elif i==2 or i==7:\n",
    "        l=len(df[(df['Score']==3) & (df['Help']!=0)])\n",
    "    elif i==3 or i==8:\n",
    "        l=len(df[(df['Score']==4) & (df['Help']!=0)])\n",
    "    elif i==4 or i==9:\n",
    "        l=len(df[(df['Score']==5) & (df['Help']!=0)])\n",
    "        \n",
    "    k=ax.patches[i]\n",
    "    k.set_height(round(k.get_height()/l*100))\n",
    "    ax.text(k.get_x()+k.get_width()/2,k.get_height()+1,'{}'.format(k.get_height()),ha='center')\n"
   ]
  },
  {
   "cell_type": "markdown",
   "metadata": {},
   "source": [
    "## Observation: \n",
    "* Out of all the reviews 48% reviews are neither Helpful nor not Helpful, only 52% are either helpful or not Helpful.\n",
    "* Now the 52 % could be further classified into three categories >75 % , 25-75%, and <25% people find it helpful.\n",
    "* Now we call >75% reviews as helpful, and <25% not helpful and cannot say anything about 25-75 %.\n",
    "* Most of the reviews lie in the category >75%.\n",
    "* **Now we see that the reviews that are more positive are more helpful reviews.**\n",
    "* 81% people find review with rating 5 helpful and 7% found it not-helpful.\n",
    "* 34% people find review with rating 5 helpful and 27% fould it not-helpful"
   ]
  },
  {
   "cell_type": "markdown",
   "metadata": {},
   "source": [
    "# 3. Word Count \n",
    "* Now I want to see how the words count changes with review"
   ]
  },
  {
   "cell_type": "markdown",
   "metadata": {},
   "source": [
    "### How does word count changes with rating?"
   ]
  },
  {
   "cell_type": "code",
   "execution_count": 19,
   "metadata": {},
   "outputs": [
    {
     "data": {
      "image/png": "[encoded data removed]",
      "text/plain": [
       "<Figure size 432x288 with 1 Axes>"
      ]
     },
     "metadata": {
      "needs_background": "light"
     },
     "output_type": "display_data"
    }
   ],
   "source": [
    "#Data is not cleaned yet bare with it \n",
    "temp=[]\n",
    "for i in df['Text']:\n",
    "    try:\n",
    "        temp.append(len(i.split()))\n",
    "    except:\n",
    "        temp.append(0)\n",
    "\n",
    "df['Word Count']=temp\n",
    "ax=sns.boxplot(y='Word Count',x='Score',data=df,showfliers=False)\n"
   ]
  },
  {
   "cell_type": "markdown",
   "metadata": {},
   "source": [
    "### How does word count change for helpfulness?"
   ]
  },
  {
   "cell_type": "code",
   "execution_count": 20,
   "metadata": {},
   "outputs": [
    {
     "data": {
      "text/plain": [
       "<matplotlib.axes._subplots.AxesSubplot at 0x1a1b1a28438>"
      ]
     },
     "execution_count": 20,
     "metadata": {},
     "output_type": "execute_result"
    },
    {
     "data": {
      "image/png": "[encoded data removed]",
      "text/plain": [
       "<Figure size 432x288 with 1 Axes>"
      ]
     },
     "metadata": {
      "needs_background": "light"
     },
     "output_type": "display_data"
    }
   ],
   "source": [
    "df.head()\n",
    "sns.boxplot(x='Help',y='Word Count',data=df[(df['Help']=='Helpful')|(df['Help']=='Not Helpful')],showfliers=False)"
   ]
  },
  {
   "cell_type": "markdown",
   "metadata": {},
   "source": [
    "## 4. Frequency of veiwers"
   ]
  },
  {
   "cell_type": "code",
   "execution_count": 21,
   "metadata": {},
   "outputs": [
    {
     "data": {
      "text/html": [
       "<div>\n",
       "<style scoped>\n",
       "    .dataframe tbody tr th:only-of-type {\n",
       "        vertical-align: middle;\n",
       "    }\n",
       "\n",
       "    .dataframe tbody tr th {\n",
       "        vertical-align: top;\n",
       "    }\n",
       "\n",
       "    .dataframe thead th {\n",
       "        text-align: right;\n",
       "    }\n",
       "</style>\n",
       "<table border=\"1\" class=\"dataframe\">\n",
       "  <thead>\n",
       "    <tr style=\"text-align: right;\">\n",
       "      <th></th>\n",
       "      <th>ProductId</th>\n",
       "      <th>UserId</th>\n",
       "      <th>ProfileName</th>\n",
       "      <th>HelpfulnessNumerator</th>\n",
       "      <th>HelpfulnessDenominator</th>\n",
       "      <th>Score</th>\n",
       "      <th>Time</th>\n",
       "      <th>Summary</th>\n",
       "      <th>Text</th>\n",
       "      <th>Perc_help</th>\n",
       "      <th>Help</th>\n",
       "      <th>Word Count</th>\n",
       "    </tr>\n",
       "  </thead>\n",
       "  <tbody>\n",
       "    <tr>\n",
       "      <th>0</th>\n",
       "      <td>B001E4KFG0</td>\n",
       "      <td>A3SGXH7AUHU8GW</td>\n",
       "      <td>delmartian</td>\n",
       "      <td>1</td>\n",
       "      <td>1</td>\n",
       "      <td>5</td>\n",
       "      <td>1303862400</td>\n",
       "      <td>Good Quality Dog Food</td>\n",
       "      <td>I have bought several of the Vitality canned d...</td>\n",
       "      <td>&gt;75%</td>\n",
       "      <td>Helpful</td>\n",
       "      <td>48</td>\n",
       "    </tr>\n",
       "    <tr>\n",
       "      <th>1</th>\n",
       "      <td>B00813GRG4</td>\n",
       "      <td>A1D87F6ZCVE5NK</td>\n",
       "      <td>dll pa</td>\n",
       "      <td>0</td>\n",
       "      <td>0</td>\n",
       "      <td>1</td>\n",
       "      <td>1346976000</td>\n",
       "      <td>Not as Advertised</td>\n",
       "      <td>Product arrived labeled as Jumbo Salted Peanut...</td>\n",
       "      <td>Not mentioned</td>\n",
       "      <td>0</td>\n",
       "      <td>31</td>\n",
       "    </tr>\n",
       "    <tr>\n",
       "      <th>2</th>\n",
       "      <td>B000LQOCH0</td>\n",
       "      <td>ABXLMWJIXXAIN</td>\n",
       "      <td>Natalia Corres \"Natalia Corres\"</td>\n",
       "      <td>1</td>\n",
       "      <td>1</td>\n",
       "      <td>4</td>\n",
       "      <td>1219017600</td>\n",
       "      <td>\"Delight\" says it all</td>\n",
       "      <td>This is a confection that has been around a fe...</td>\n",
       "      <td>&gt;75%</td>\n",
       "      <td>Helpful</td>\n",
       "      <td>94</td>\n",
       "    </tr>\n",
       "    <tr>\n",
       "      <th>3</th>\n",
       "      <td>B000UA0QIQ</td>\n",
       "      <td>A395BORC6FGVXV</td>\n",
       "      <td>Karl</td>\n",
       "      <td>3</td>\n",
       "      <td>3</td>\n",
       "      <td>2</td>\n",
       "      <td>1307923200</td>\n",
       "      <td>Cough Medicine</td>\n",
       "      <td>If you are looking for the secret ingredient i...</td>\n",
       "      <td>&gt;75%</td>\n",
       "      <td>Helpful</td>\n",
       "      <td>41</td>\n",
       "    </tr>\n",
       "    <tr>\n",
       "      <th>4</th>\n",
       "      <td>B006K2ZZ7K</td>\n",
       "      <td>A1UQRSCLF8GW1T</td>\n",
       "      <td>Michael D. Bigham \"M. Wassir\"</td>\n",
       "      <td>0</td>\n",
       "      <td>0</td>\n",
       "      <td>5</td>\n",
       "      <td>1350777600</td>\n",
       "      <td>Great taffy</td>\n",
       "      <td>Great taffy at a great price.  There was a wid...</td>\n",
       "      <td>Not mentioned</td>\n",
       "      <td>0</td>\n",
       "      <td>27</td>\n",
       "    </tr>\n",
       "  </tbody>\n",
       "</table>\n",
       "</div>"
      ],
      "text/plain": [
       "    ProductId          UserId                      ProfileName  \\\n",
       "0  B001E4KFG0  A3SGXH7AUHU8GW                       delmartian   \n",
       "1  B00813GRG4  A1D87F6ZCVE5NK                           dll pa   \n",
       "2  B000LQOCH0   ABXLMWJIXXAIN  Natalia Corres \"Natalia Corres\"   \n",
       "3  B000UA0QIQ  A395BORC6FGVXV                             Karl   \n",
       "4  B006K2ZZ7K  A1UQRSCLF8GW1T    Michael D. Bigham \"M. Wassir\"   \n",
       "\n",
       "   HelpfulnessNumerator  HelpfulnessDenominator  Score        Time  \\\n",
       "0                     1                       1      5  1303862400   \n",
       "1                     0                       0      1  1346976000   \n",
       "2                     1                       1      4  1219017600   \n",
       "3                     3                       3      2  1307923200   \n",
       "4                     0                       0      5  1350777600   \n",
       "\n",
       "                 Summary                                               Text  \\\n",
       "0  Good Quality Dog Food  I have bought several of the Vitality canned d...   \n",
       "1      Not as Advertised  Product arrived labeled as Jumbo Salted Peanut...   \n",
       "2  \"Delight\" says it all  This is a confection that has been around a fe...   \n",
       "3         Cough Medicine  If you are looking for the secret ingredient i...   \n",
       "4            Great taffy  Great taffy at a great price.  There was a wid...   \n",
       "\n",
       "       Perc_help     Help  Word Count  \n",
       "0           >75%  Helpful          48  \n",
       "1  Not mentioned        0          31  \n",
       "2           >75%  Helpful          94  \n",
       "3           >75%  Helpful          41  \n",
       "4  Not mentioned        0          27  "
      ]
     },
     "execution_count": 21,
     "metadata": {},
     "output_type": "execute_result"
    }
   ],
   "source": [
    "# Now I wanna see how is the word frequency affected by the frequency of viewers , is it affected or not\n",
    "df.head()"
   ]
  },
  {
   "cell_type": "code",
   "execution_count": 22,
   "metadata": {},
   "outputs": [],
   "source": [
    "x=df['UserId'].value_counts()"
   ]
  },
  {
   "cell_type": "code",
   "execution_count": 38,
   "metadata": {},
   "outputs": [
    {
     "name": "stderr",
     "output_type": "stream",
     "text": [
      "100%|█████████████████████████████████████████████████████████████████████████| 40047/40047 [00:00<00:00, 51541.89it/s]\n"
     ]
    }
   ],
   "source": [
    "arr1=[]\n",
    "for i in tqdm(x.index[:-1]):\n",
    "    if x.loc[i]>=5:\n",
    "        arr1.append('Frequent')\n",
    "    else:\n",
    "        arr1.append('Not Frequent')"
   ]
  },
  {
   "cell_type": "code",
   "execution_count": 31,
   "metadata": {},
   "outputs": [
    {
     "name": "stderr",
     "output_type": "stream",
     "text": [
      "100%|███████████████████████████████████████████████████████████████████████████| 40047/40047 [02:49<00:00, 236.73it/s]\n"
     ]
    }
   ],
   "source": [
    "arr2=[]\n",
    "for i in tqdm(x.index[-1]):\n",
    "    arr2.append(int(round(np.median(df[df['UserId']==i]['Score']))))"
   ]
  },
  {
   "cell_type": "code",
   "execution_count": 41,
   "metadata": {},
   "outputs": [],
   "source": [
    "da=pd.DataFrame({'User':arr1,'Score':arr2})"
   ]
  },
  {
   "cell_type": "code",
   "execution_count": 42,
   "metadata": {},
   "outputs": [
    {
     "data": {
      "text/plain": [
       "Not Frequent    39687\n",
       "Frequent          360\n",
       "Name: User, dtype: int64"
      ]
     },
     "execution_count": 42,
     "metadata": {},
     "output_type": "execute_result"
    }
   ],
   "source": [
    "da['User'].value_counts()"
   ]
  },
  {
   "cell_type": "code",
   "execution_count": 43,
   "metadata": {},
   "outputs": [
    {
     "name": "stderr",
     "output_type": "stream",
     "text": [
      "C:\\Users\\Kushagra\\Anaconda3\\lib\\site-packages\\ipykernel_launcher.py:6: RuntimeWarning: divide by zero encountered in long_scalars\n",
      "  \n"
     ]
    },
    {
     "data": {
      "image/png": "[encoded data removed]",
      "text/plain": [
       "<Figure size 432x288 with 1 Axes>"
      ]
     },
     "metadata": {
      "needs_background": "light"
     },
     "output_type": "display_data"
    }
   ],
   "source": [
    "ax=sns.countplot('Score',hue='User',data=da,ax=plt.axes(ylim=(0,100)))\n",
    "for i in range(10):\n",
    "    k=ax.patches[i]\n",
    "    if i<5:\n",
    "        l=len(df[df['Score']==int(k.get_x()+1.4)])\n",
    "        k.set_height(k.get_height()/l*100)\n",
    "    else:\n",
    "        l=len(df[df['Score']==int(k.get_x()+1)])\n",
    "        k.set_height(k.get_height()/l*100)"
   ]
  },
  {
   "cell_type": "markdown",
   "metadata": {},
   "source": [
    "# Conclusion:\n",
    "* Most of the ratings are either 4 or 5(75% of data)\n",
    "* Half of the points are neither mentioned Helpful nor Not helpful,out of remaining most were helpful.\n",
    "* More is the rating higher more is review helpful.\n",
    "* ratings that are to the extremes are shorter.\n",
    "* helpful reviews are longer in length.\n",
    "* Frequent user gives mostly rating 4."
   ]
  },
  {
   "cell_type": "code",
   "execution_count": null,
   "metadata": {},
   "outputs": [],
   "source": []
  },
  {
   "cell_type": "code",
   "execution_count": null,
   "metadata": {},
   "outputs": [],
   "source": []
  }
 ],
 "metadata": {
  "kernelspec": {
   "display_name": "Python 3",
   "language": "python",
   "name": "python3"
  },
  "language_info": {
   "codemirror_mode": {
    "name": "ipython",
    "version": 3
   },
   "file_extension": ".py",
   "mimetype": "text/x-python",
   "name": "python",
   "nbconvert_exporter": "python",
   "pygments_lexer": "ipython3",
   "version": "3.7.3"
  }
 },
 "nbformat": 4,
 "nbformat_minor": 2
}
