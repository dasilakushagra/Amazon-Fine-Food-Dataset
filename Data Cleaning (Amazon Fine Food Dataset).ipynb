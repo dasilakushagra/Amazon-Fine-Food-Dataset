{
 "cells": [
  {
   "cell_type": "markdown",
   "metadata": {},
   "source": [
    "# Amazon Fine-Food Reviews Dataset\n",
    "\n",
    "## Summary of the dataset:\n",
    "\n",
    "* The data consist of 568454 rows and 10 columns.\n",
    "\n",
    "* The data consist of following information.\n",
    "    * The unique id of each product(ProductId)\n",
    "    * Unique Id of each user(UserId)\n",
    "    * a rating from 1 to 5(Score)\n",
    "    * time at which review was posted(Time)\n",
    "    * summary of the review given(Summary)\n",
    "    * review given by the customer(Text)\n",
    "* Columns that were removed.\n",
    "    * profile name - (the nick name of the user)\n",
    "    * Helpfulness numerator - (was the review helpful to others)\n",
    "    * Helpfulness denominator - (helpfull+ not helpful)\n",
    "    \n",
    "* Column Data-types:\n",
    "    * ProductId - object type\n",
    "    * UserId - object type\n",
    "    * Score - int(1-5)\n",
    "    * Time - time stamp\n",
    "    * summary - text data\n",
    "    * text - text data\n",
    "* There are 27 null values in summary column and else everything is non-null."
   ]
  },
  {
   "cell_type": "code",
   "execution_count": 1,
   "metadata": {},
   "outputs": [],
   "source": [
    "#importing necessary libraries\n",
    "import re\n",
    "import pandas as pd\n",
    "import numpy as np\n",
    "import nltk\n",
    "from nltk.corpus import stopwords\n",
    "from tqdm import tqdm\n",
    "import matplotlib.pyplot as plt\n",
    "import seaborn as sns"
   ]
  },
  {
   "cell_type": "code",
   "execution_count": 2,
   "metadata": {},
   "outputs": [],
   "source": [
    "#reading data\n",
    "df=pd.read_csv(r'D:\\study material\\ML\\Datasets\\amazon-fine-food-reviews\\Reviews.csv',nrows=50000)"
   ]
  },
  {
   "cell_type": "code",
   "execution_count": 3,
   "metadata": {},
   "outputs": [],
   "source": [
    "df=df[df['Score']!=3]"
   ]
  },
  {
   "cell_type": "code",
   "execution_count": 4,
   "metadata": {},
   "outputs": [
    {
     "data": {
      "text/html": [
       "<div>\n",
       "<style scoped>\n",
       "    .dataframe tbody tr th:only-of-type {\n",
       "        vertical-align: middle;\n",
       "    }\n",
       "\n",
       "    .dataframe tbody tr th {\n",
       "        vertical-align: top;\n",
       "    }\n",
       "\n",
       "    .dataframe thead th {\n",
       "        text-align: right;\n",
       "    }\n",
       "</style>\n",
       "<table border=\"1\" class=\"dataframe\">\n",
       "  <thead>\n",
       "    <tr style=\"text-align: right;\">\n",
       "      <th></th>\n",
       "      <th>Id</th>\n",
       "      <th>ProductId</th>\n",
       "      <th>UserId</th>\n",
       "      <th>ProfileName</th>\n",
       "      <th>HelpfulnessNumerator</th>\n",
       "      <th>HelpfulnessDenominator</th>\n",
       "      <th>Score</th>\n",
       "      <th>Time</th>\n",
       "      <th>Summary</th>\n",
       "      <th>Text</th>\n",
       "    </tr>\n",
       "  </thead>\n",
       "  <tbody>\n",
       "    <tr>\n",
       "      <th>49995</th>\n",
       "      <td>49996</td>\n",
       "      <td>B00430B73W</td>\n",
       "      <td>AKW867T7C6HF8</td>\n",
       "      <td>HWJ3</td>\n",
       "      <td>0</td>\n",
       "      <td>0</td>\n",
       "      <td>5</td>\n",
       "      <td>1261180800</td>\n",
       "      <td>Grown to really like them</td>\n",
       "      <td>My sister introduced me to these. They have be...</td>\n",
       "    </tr>\n",
       "    <tr>\n",
       "      <th>49996</th>\n",
       "      <td>49997</td>\n",
       "      <td>B00430B73W</td>\n",
       "      <td>A2PEHNEDMHOYTW</td>\n",
       "      <td>L. Allen</td>\n",
       "      <td>0</td>\n",
       "      <td>0</td>\n",
       "      <td>5</td>\n",
       "      <td>1258934400</td>\n",
       "      <td>Healthy Snack at a great price!</td>\n",
       "      <td>A friend recommended these bars and I fell in ...</td>\n",
       "    </tr>\n",
       "    <tr>\n",
       "      <th>49997</th>\n",
       "      <td>49998</td>\n",
       "      <td>B00430B73W</td>\n",
       "      <td>A2QH2KF2IAB143</td>\n",
       "      <td>J. A. Meyers \"Jan\"</td>\n",
       "      <td>0</td>\n",
       "      <td>0</td>\n",
       "      <td>5</td>\n",
       "      <td>1257379200</td>\n",
       "      <td>Raw Revolution Hazelnut Cashew</td>\n",
       "      <td>Fabulous!  I take one to work with me every da...</td>\n",
       "    </tr>\n",
       "    <tr>\n",
       "      <th>49998</th>\n",
       "      <td>49999</td>\n",
       "      <td>B00430B73W</td>\n",
       "      <td>AMX286UGXISMA</td>\n",
       "      <td>Aaron Dragushan</td>\n",
       "      <td>0</td>\n",
       "      <td>0</td>\n",
       "      <td>4</td>\n",
       "      <td>1247702400</td>\n",
       "      <td>fantastic, but chew carefully</td>\n",
       "      <td>I love these bars and will continue to buy the...</td>\n",
       "    </tr>\n",
       "    <tr>\n",
       "      <th>49999</th>\n",
       "      <td>50000</td>\n",
       "      <td>B00430B73W</td>\n",
       "      <td>A3042WJDYJ22S8</td>\n",
       "      <td>Sunny Side Up \"CoffeeBuzz\"</td>\n",
       "      <td>0</td>\n",
       "      <td>0</td>\n",
       "      <td>5</td>\n",
       "      <td>1178755200</td>\n",
       "      <td>Very Tasty and Healthy.</td>\n",
       "      <td>These are very good; nutritious, great flavor ...</td>\n",
       "    </tr>\n",
       "  </tbody>\n",
       "</table>\n",
       "</div>"
      ],
      "text/plain": [
       "          Id   ProductId          UserId                 ProfileName  \\\n",
       "49995  49996  B00430B73W   AKW867T7C6HF8                        HWJ3   \n",
       "49996  49997  B00430B73W  A2PEHNEDMHOYTW                    L. Allen   \n",
       "49997  49998  B00430B73W  A2QH2KF2IAB143          J. A. Meyers \"Jan\"   \n",
       "49998  49999  B00430B73W   AMX286UGXISMA             Aaron Dragushan   \n",
       "49999  50000  B00430B73W  A3042WJDYJ22S8  Sunny Side Up \"CoffeeBuzz\"   \n",
       "\n",
       "       HelpfulnessNumerator  HelpfulnessDenominator  Score        Time  \\\n",
       "49995                     0                       0      5  1261180800   \n",
       "49996                     0                       0      5  1258934400   \n",
       "49997                     0                       0      5  1257379200   \n",
       "49998                     0                       0      4  1247702400   \n",
       "49999                     0                       0      5  1178755200   \n",
       "\n",
       "                               Summary  \\\n",
       "49995        Grown to really like them   \n",
       "49996  Healthy Snack at a great price!   \n",
       "49997   Raw Revolution Hazelnut Cashew   \n",
       "49998    fantastic, but chew carefully   \n",
       "49999          Very Tasty and Healthy.   \n",
       "\n",
       "                                                    Text  \n",
       "49995  My sister introduced me to these. They have be...  \n",
       "49996  A friend recommended these bars and I fell in ...  \n",
       "49997  Fabulous!  I take one to work with me every da...  \n",
       "49998  I love these bars and will continue to buy the...  \n",
       "49999  These are very good; nutritious, great flavor ...  "
      ]
     },
     "execution_count": 4,
     "metadata": {},
     "output_type": "execute_result"
    }
   ],
   "source": [
    "df.tail()"
   ]
  },
  {
   "cell_type": "markdown",
   "metadata": {},
   "source": [
    "## 1. Data Deduplication \n",
    "* Some of the reviews are repated so they need to removed.\n",
    "* Reviews done at the same time for same product, by same user and the same review with same summary."
   ]
  },
  {
   "cell_type": "code",
   "execution_count": 5,
   "metadata": {},
   "outputs": [
    {
     "data": {
      "text/plain": [
       "Id                        0\n",
       "ProductId                 0\n",
       "UserId                    0\n",
       "ProfileName               3\n",
       "HelpfulnessNumerator      0\n",
       "HelpfulnessDenominator    0\n",
       "Score                     0\n",
       "Time                      0\n",
       "Summary                   2\n",
       "Text                      0\n",
       "dtype: int64"
      ]
     },
     "execution_count": 5,
     "metadata": {},
     "output_type": "execute_result"
    }
   ],
   "source": [
    "# checking for null values\n",
    "import numpy as np\n",
    "np.sum(df.isna())"
   ]
  },
  {
   "cell_type": "code",
   "execution_count": 6,
   "metadata": {},
   "outputs": [],
   "source": [
    "# droping the Profile name column as a user can be identified by its user id only \n",
    "df.drop('ProfileName',axis=1,inplace=True)"
   ]
  },
  {
   "cell_type": "code",
   "execution_count": 7,
   "metadata": {},
   "outputs": [
    {
     "data": {
      "text/html": [
       "<div>\n",
       "<style scoped>\n",
       "    .dataframe tbody tr th:only-of-type {\n",
       "        vertical-align: middle;\n",
       "    }\n",
       "\n",
       "    .dataframe tbody tr th {\n",
       "        vertical-align: top;\n",
       "    }\n",
       "\n",
       "    .dataframe thead th {\n",
       "        text-align: right;\n",
       "    }\n",
       "</style>\n",
       "<table border=\"1\" class=\"dataframe\">\n",
       "  <thead>\n",
       "    <tr style=\"text-align: right;\">\n",
       "      <th></th>\n",
       "      <th>Id</th>\n",
       "      <th>ProductId</th>\n",
       "      <th>UserId</th>\n",
       "      <th>HelpfulnessNumerator</th>\n",
       "      <th>HelpfulnessDenominator</th>\n",
       "      <th>Score</th>\n",
       "      <th>Time</th>\n",
       "      <th>Summary</th>\n",
       "      <th>Text</th>\n",
       "    </tr>\n",
       "  </thead>\n",
       "  <tbody>\n",
       "    <tr>\n",
       "      <th>0</th>\n",
       "      <td>1</td>\n",
       "      <td>B001E4KFG0</td>\n",
       "      <td>A3SGXH7AUHU8GW</td>\n",
       "      <td>1</td>\n",
       "      <td>1</td>\n",
       "      <td>5</td>\n",
       "      <td>1303862400</td>\n",
       "      <td>Good Quality Dog Food</td>\n",
       "      <td>I have bought several of the Vitality canned d...</td>\n",
       "    </tr>\n",
       "    <tr>\n",
       "      <th>1</th>\n",
       "      <td>2</td>\n",
       "      <td>B00813GRG4</td>\n",
       "      <td>A1D87F6ZCVE5NK</td>\n",
       "      <td>0</td>\n",
       "      <td>0</td>\n",
       "      <td>1</td>\n",
       "      <td>1346976000</td>\n",
       "      <td>Not as Advertised</td>\n",
       "      <td>Product arrived labeled as Jumbo Salted Peanut...</td>\n",
       "    </tr>\n",
       "    <tr>\n",
       "      <th>2</th>\n",
       "      <td>3</td>\n",
       "      <td>B000LQOCH0</td>\n",
       "      <td>ABXLMWJIXXAIN</td>\n",
       "      <td>1</td>\n",
       "      <td>1</td>\n",
       "      <td>4</td>\n",
       "      <td>1219017600</td>\n",
       "      <td>\"Delight\" says it all</td>\n",
       "      <td>This is a confection that has been around a fe...</td>\n",
       "    </tr>\n",
       "    <tr>\n",
       "      <th>3</th>\n",
       "      <td>4</td>\n",
       "      <td>B000UA0QIQ</td>\n",
       "      <td>A395BORC6FGVXV</td>\n",
       "      <td>3</td>\n",
       "      <td>3</td>\n",
       "      <td>2</td>\n",
       "      <td>1307923200</td>\n",
       "      <td>Cough Medicine</td>\n",
       "      <td>If you are looking for the secret ingredient i...</td>\n",
       "    </tr>\n",
       "    <tr>\n",
       "      <th>4</th>\n",
       "      <td>5</td>\n",
       "      <td>B006K2ZZ7K</td>\n",
       "      <td>A1UQRSCLF8GW1T</td>\n",
       "      <td>0</td>\n",
       "      <td>0</td>\n",
       "      <td>5</td>\n",
       "      <td>1350777600</td>\n",
       "      <td>Great taffy</td>\n",
       "      <td>Great taffy at a great price.  There was a wid...</td>\n",
       "    </tr>\n",
       "  </tbody>\n",
       "</table>\n",
       "</div>"
      ],
      "text/plain": [
       "   Id   ProductId          UserId  HelpfulnessNumerator  \\\n",
       "0   1  B001E4KFG0  A3SGXH7AUHU8GW                     1   \n",
       "1   2  B00813GRG4  A1D87F6ZCVE5NK                     0   \n",
       "2   3  B000LQOCH0   ABXLMWJIXXAIN                     1   \n",
       "3   4  B000UA0QIQ  A395BORC6FGVXV                     3   \n",
       "4   5  B006K2ZZ7K  A1UQRSCLF8GW1T                     0   \n",
       "\n",
       "   HelpfulnessDenominator  Score        Time                Summary  \\\n",
       "0                       1      5  1303862400  Good Quality Dog Food   \n",
       "1                       0      1  1346976000      Not as Advertised   \n",
       "2                       1      4  1219017600  \"Delight\" says it all   \n",
       "3                       3      2  1307923200         Cough Medicine   \n",
       "4                       0      5  1350777600            Great taffy   \n",
       "\n",
       "                                                Text  \n",
       "0  I have bought several of the Vitality canned d...  \n",
       "1  Product arrived labeled as Jumbo Salted Peanut...  \n",
       "2  This is a confection that has been around a fe...  \n",
       "3  If you are looking for the secret ingredient i...  \n",
       "4  Great taffy at a great price.  There was a wid...  "
      ]
     },
     "execution_count": 7,
     "metadata": {},
     "output_type": "execute_result"
    }
   ],
   "source": [
    "df.head()"
   ]
  },
  {
   "cell_type": "code",
   "execution_count": 8,
   "metadata": {},
   "outputs": [
    {
     "data": {
      "text/html": [
       "<div>\n",
       "<style scoped>\n",
       "    .dataframe tbody tr th:only-of-type {\n",
       "        vertical-align: middle;\n",
       "    }\n",
       "\n",
       "    .dataframe tbody tr th {\n",
       "        vertical-align: top;\n",
       "    }\n",
       "\n",
       "    .dataframe thead th {\n",
       "        text-align: right;\n",
       "    }\n",
       "</style>\n",
       "<table border=\"1\" class=\"dataframe\">\n",
       "  <thead>\n",
       "    <tr style=\"text-align: right;\">\n",
       "      <th></th>\n",
       "      <th>Id</th>\n",
       "      <th>ProductId</th>\n",
       "      <th>UserId</th>\n",
       "      <th>HelpfulnessNumerator</th>\n",
       "      <th>HelpfulnessDenominator</th>\n",
       "      <th>Score</th>\n",
       "      <th>Time</th>\n",
       "      <th>Summary</th>\n",
       "      <th>Text</th>\n",
       "    </tr>\n",
       "  </thead>\n",
       "  <tbody>\n",
       "    <tr>\n",
       "      <th>10</th>\n",
       "      <td>11</td>\n",
       "      <td>B0001PB9FE</td>\n",
       "      <td>A3HDKO7OW0QNK4</td>\n",
       "      <td>1</td>\n",
       "      <td>1</td>\n",
       "      <td>5</td>\n",
       "      <td>1107820800</td>\n",
       "      <td>The Best Hot Sauce in the World</td>\n",
       "      <td>I don't know if it's the cactus or the tequila...</td>\n",
       "    </tr>\n",
       "    <tr>\n",
       "      <th>29</th>\n",
       "      <td>30</td>\n",
       "      <td>B0001PB9FY</td>\n",
       "      <td>A3HDKO7OW0QNK4</td>\n",
       "      <td>1</td>\n",
       "      <td>1</td>\n",
       "      <td>5</td>\n",
       "      <td>1107820800</td>\n",
       "      <td>The Best Hot Sauce in the World</td>\n",
       "      <td>I don't know if it's the cactus or the tequila...</td>\n",
       "    </tr>\n",
       "  </tbody>\n",
       "</table>\n",
       "</div>"
      ],
      "text/plain": [
       "    Id   ProductId          UserId  HelpfulnessNumerator  \\\n",
       "10  11  B0001PB9FE  A3HDKO7OW0QNK4                     1   \n",
       "29  30  B0001PB9FY  A3HDKO7OW0QNK4                     1   \n",
       "\n",
       "    HelpfulnessDenominator  Score        Time  \\\n",
       "10                       1      5  1107820800   \n",
       "29                       1      5  1107820800   \n",
       "\n",
       "                            Summary  \\\n",
       "10  The Best Hot Sauce in the World   \n",
       "29  The Best Hot Sauce in the World   \n",
       "\n",
       "                                                 Text  \n",
       "10  I don't know if it's the cactus or the tequila...  \n",
       "29  I don't know if it's the cactus or the tequila...  "
      ]
     },
     "execution_count": 8,
     "metadata": {},
     "output_type": "execute_result"
    }
   ],
   "source": [
    "df[df['UserId']=='A3HDKO7OW0QNK4']"
   ]
  },
  {
   "cell_type": "markdown",
   "metadata": {},
   "source": [
    "### Observation:\n",
    "* we see that some reviews are written at the same time by same person and review wriiten is also on further analysis we found that the product was same with different flavours.\n",
    "* Example:\n",
    "    * AR5J8UI46CURR\t- summary(LOACKER QUADRATINI VANILLA WAFERS) \n",
    "    this user gives 5 reviews that were all the same but only the product Id was different.\n",
    "    * A3HDKO7OW0QNK4 - (The Best Hot Sauce in the World)\n",
    "    the user gives two reviews that are same but only the product Id is different\n"
   ]
  },
  {
   "cell_type": "code",
   "execution_count": 9,
   "metadata": {},
   "outputs": [],
   "source": [
    "# so we removed duplicate columns:\n",
    "n=len(df)\n",
    "df.drop_duplicates({'UserId','Score','Time','Text'},inplace=True)"
   ]
  },
  {
   "cell_type": "code",
   "execution_count": 10,
   "metadata": {},
   "outputs": [
    {
     "name": "stdout",
     "output_type": "stream",
     "text": [
      "Size of new Dataset is (42511, 9)\n",
      "so cleaned data is 92.51% of the orignal data\n"
     ]
    }
   ],
   "source": [
    "# size of new df\n",
    "print(f'Size of new Dataset is {df.shape}')\n",
    "print('so cleaned data is {:.2f}% of the orignal data'.format(len(df)/n*100))"
   ]
  },
  {
   "cell_type": "code",
   "execution_count": 11,
   "metadata": {},
   "outputs": [
    {
     "data": {
      "text/plain": [
       "5    28752\n",
       "4     6770\n",
       "1     4366\n",
       "2     2623\n",
       "Name: Score, dtype: int64"
      ]
     },
     "execution_count": 11,
     "metadata": {},
     "output_type": "execute_result"
    }
   ],
   "source": [
    "#Number of positive and negative points in the dataset\n",
    "df['Score'].value_counts()"
   ]
  },
  {
   "cell_type": "code",
   "execution_count": 12,
   "metadata": {},
   "outputs": [],
   "source": [
    "#categorizing score into two categories 0- less than 3 and 1 - grater than 3.\n",
    "arr=[]\n",
    "for i in df['Score']:\n",
    "    if i>3:\n",
    "        arr.append(1)\n",
    "    else:\n",
    "        arr.append(0)\n",
    "df['Score']=arr"
   ]
  },
  {
   "cell_type": "code",
   "execution_count": 13,
   "metadata": {},
   "outputs": [
    {
     "data": {
      "text/plain": [
       "1    35522\n",
       "0     6989\n",
       "Name: Score, dtype: int64"
      ]
     },
     "execution_count": 13,
     "metadata": {},
     "output_type": "execute_result"
    }
   ],
   "source": [
    "df['Score'].value_counts()"
   ]
  },
  {
   "cell_type": "markdown",
   "metadata": {},
   "source": [
    "## 2. Text Data cleaning\n",
    "* You would have heard a lot of time in ML 'Garbarge in, Garbage Out'. If you give garbage so you will get garbage only so you need to first process the data.\n",
    "* So as we cleaned the data we need to clean the text data also.(i.e review and summary column).\n",
    "* The objectives of text cleaning are:\n",
    "    * Removing html tags.\n",
    "    * Removing punctutations.\n",
    "    * Remove Special characters.\n",
    "    * Keping only alphabets.\n",
    "    * Converting the words to lower case.\n",
    "    * Expand the contracted words e.g - haven't --> have not\n",
    "    * Removing stop words.\n",
    "    * Performing stemming\n",
    "    \n",
    "    Note: It has been researched that all the adjectives are of more than 3 letters, so remove all words with length <=3."
   ]
  },
  {
   "cell_type": "code",
   "execution_count": 14,
   "metadata": {},
   "outputs": [],
   "source": [
    "import re\n",
    "def rem_HtmlTag(s):\n",
    "    return re.sub(r'<.*?>',r'',s)\n",
    "\n",
    "def rem_punctuation(s):\n",
    "    return re.sub(r'[.?!,;:\\[\\]{}()`\\'\\-\"]',r' ',s)\n",
    "\n",
    "def rem_specialChar(s):\n",
    "    return re.sub(r'[@#$%^&*+-\\/\\\\]',r'',s)\n",
    "\n",
    "def rem_alphanum(s):  \n",
    "    return re.sub(r'[^A-Za-z]',r'',s)\n",
    "\n",
    "def de_cont(s):\n",
    "    try:\n",
    "        contractions = { \n",
    "\"ain't\": \"am not \",\"aren't\": \"are not\",\"can't\": \"cannot\",\"can't've\": \"cannot have\",\"'cause\": \"because\",\"could've\": \"could have\",\"couldn't\": \"could not\",\"couldn't've\": \"could not have\",\"didn't\": \"did not\",\n",
    "\"doesn't\": \"does not\",\"don't\": \"do not\",\"hadn't\": \"had not\",\"hadn't've\": \"had not have\",\"hasn't\": \"has not\",\"haven't\": \"have not\",\"he'd\": \"he had / he would\",\n",
    "\"he'd've\": \"he would have\",\"he'll\": \"he shall / he will\",\"he'll've\": \"he shall have / he will have\",\"he's\": \"he has / he is\",\"how'd\": \"how did\",\"how'd'y\": \"how do you\",\"how'll\": \"how will\",\"how's\": \"how has / how is / how does\",\"I'd\": \"I had / I would\",\"I'd've\": \"I would have\",\"I'll\": \"I shall / I will\",\"I'll've\": \"I shall have / I will have\",\"I'm\": \"I am\",\"I've\": \"I have\",\"isn't\": \"is not\",\"it'd\": \"it had / it would\",\"it'd've\": \"it would have\",\"it'll\": \"it shall / it will\",\"it'll've\": \"it shall have / it will have\",\"it's\": \"it has / it is\",\"let's\": \"let us\",\"ma'am\": \"madam\",\"mayn't\": \"may not\",\"might've\": \"might have\",\"mightn't\": \"might not\",\"mightn't've\": \"might not have\",\"must've\": \"must have\",\"mustn't\": \"must not\",\"mustn't've\": \"must not have\",\"needn't\": \"need not\",\"needn't've\": \"need not have\",\"o'clock\": \"of the clock\",\"oughtn't\": \"ought not\",\"oughtn't've\": \"ought not have\",\"shan't\": \"shall not\",\"sha'n't\": \"shall not\",\"shan't've\": \"shall not have\",\"she'd\": \"she had / she would\",\"she'd've\": \"she would have\",\"she'll\": \"she shall / she will\",\"she'll've\": \"she shall have / she will have\",\"she's\": \"she has / she is\",\"should've\": \"should have\",\"shouldn't\": \"should not\",\"shouldn't've\": \"should not have\",\"so've\": \"so have\",\"so's\": \"so as / so is\",\"that'd\": \"that would / that had\",\"that'd've\": \"that would have\",\"that's\": \"that has / that is\",\n",
    "\"there'd\": \"there had / there would\",\"there'd've\": \"there would have\",\"there's\": \"there has / there is\",\"they'd\": \"they had / they would\",\"they'd've\": \"they would have\",\"they'll\": \"they shall / they will\",\"they'll've\": \"they shall have / they will have\",\"they're\": \"they are\",\"they've\": \"they have\",\"to've\": \"to have\",\"wasn't\": \"was not\",\"we'd\": \"we had / we would\",\"we'd've\": \"we would have\",\"we'll\": \"we will\",\"we'll've\": \"we will have\",\"we're\": \"we are\",\"we've\": \"we have\",\"weren't\": \"were not\",\"what'll\": \"what shall / what will\",\"what'll've\": \"what shall have / what will have\",\"what're\": \"what are\",\"what's\": \"what has / what is\",\"what've\": \"what have\",\"when's\": \"when has / when is\",\"when've\": \"when have\",\"where'd\": \"where did\",\"where's\": \"where has / where is\",\"where've\": \"where have\",\"who'll\": \"who shall / who will\",\"who'll've\": \"who shall have / who will have\",\"who's\": \"who has / who is\",\"who've\": \"who have\",\"why's\": \"why has / why is\",\"why've\": \"why have\",\"will've\": \"will have\",\"won't\": \"will not\",\"won't've\": \"will not have\",\"would've\": \"would have\",\"wouldn't\": \"would not\",\"wouldn't've\": \"would not have\",\"y'all\": \"you all\",\"y'all'd\": \"you all would\",\"y'all'd've\": \"you all would have\",\"y'all're\": \"you all are\",\"y'all've\": \"you all have\",\"you'd\": \"you had / you would\",\"you'd've\": \"you would have\",\"you'll\": \"you shall / you will\",\"you'll've\": \"you shall have / you will have\",\"you're\": \"you are\",\"you've\": \"you have\"\n",
    "}\n",
    "        return contractions[s] \n",
    "    except:\n",
    "        return s\n",
    "lemma=nltk.stem.WordNetLemmatizer()\n",
    "stop_words=stopwords.words('english')\n",
    "stop_words.remove('not')\n",
    "stop_words.remove('nor')\n",
    "stop_words.remove('no')\n",
    "def rem_stop_words(s):\n",
    "    if s not in stop_words and len(s)>2:\n",
    "        return True\n",
    "    return False\n",
    "    \n"
   ]
  },
  {
   "cell_type": "code",
   "execution_count": 15,
   "metadata": {},
   "outputs": [],
   "source": [
    "def call_all(s):\n",
    "    return rem_specialChar(rem_punctuation(rem_HtmlTag(s)))"
   ]
  },
  {
   "cell_type": "code",
   "execution_count": 16,
   "metadata": {},
   "outputs": [
    {
     "name": "stderr",
     "output_type": "stream",
     "text": [
      "100%|███████████████████████████████████████████████████████████████████████████| 42511/42511 [00:48<00:00, 883.09it/s]\n"
     ]
    }
   ],
   "source": [
    "cleaned_data=[]\n",
    "# cleaning the text-data(review text)\n",
    "for i in tqdm(df['Text']):\n",
    "    temp=''\n",
    "    for j in call_all(i).split():\n",
    "        j=lemma.lemmatize(rem_alphanum(de_cont(j.lower())))\n",
    "        if rem_stop_words(j):\n",
    "            temp+=j+' '\n",
    "    cleaned_data.append(temp)\n",
    "df['Clean_Text']=cleaned_data\n"
   ]
  },
  {
   "cell_type": "code",
   "execution_count": 17,
   "metadata": {
    "scrolled": true
   },
   "outputs": [
    {
     "name": "stderr",
     "output_type": "stream",
     "text": [
      "100%|█████████████████████████████████████████████████████████████████████████| 42511/42511 [00:02<00:00, 15965.51it/s]\n"
     ]
    }
   ],
   "source": [
    "#cleaning the summary column\n",
    "cleaned_data=[]\n",
    "df['Summary'].fillna('',inplace=True)\n",
    "df['Summary'].isna().value_counts()\n",
    "for i in tqdm(df['Summary']):\n",
    "    temp=''\n",
    "    for j in call_all(i).split():\n",
    "        j=lemma.lemmatize(rem_alphanum(de_cont(j.lower())))\n",
    "        if rem_stop_words(j):\n",
    "            temp+=j+' '\n",
    "    cleaned_data.append(temp)\n",
    "df['clean_summary']=cleaned_data"
   ]
  },
  {
   "cell_type": "code",
   "execution_count": 18,
   "metadata": {},
   "outputs": [],
   "source": [
    "# Length Comparison of cleaned data words and un-cleaned data words"
   ]
  },
  {
   "cell_type": "code",
   "execution_count": 19,
   "metadata": {},
   "outputs": [
    {
     "name": "stderr",
     "output_type": "stream",
     "text": [
      "100%|██████████████████████████████████████████████████████████████████████████| 42511/42511 [00:16<00:00, 2532.09it/s]\n"
     ]
    },
    {
     "name": "stdout",
     "output_type": "stream",
     "text": [
      "Mean and median of previous lengths\n",
      "4.0566206393639295\n",
      "3.0\n",
      "\n",
      "Mean and Median of clean data length\n",
      "2.8621768483451344\n",
      "3.0\n"
     ]
    },
    {
     "data": {
      "image/png": "[encoded data removed]",
      "text/plain": [
       "<Figure size 432x288 with 2 Axes>"
      ]
     },
     "metadata": {
      "needs_background": "light"
     },
     "output_type": "display_data"
    }
   ],
   "source": [
    "#Summary\n",
    "old_len=[]\n",
    "new_len=[]\n",
    "for i in tqdm(range(len(df))):\n",
    "    old_len.append(len(df.iloc[i]['Summary'].split()))\n",
    "    new_len.append(len(df.iloc[i]['clean_summary'].split()))\n",
    "\n",
    "print('Mean and median of previous lengths')\n",
    "print(np.mean(old_len))\n",
    "print(np.median(old_len))\n",
    "\n",
    "print('\\nMean and Median of clean data length')\n",
    "print(np.mean(new_len))\n",
    "print(np.median(new_len))\n",
    "\n",
    "\n",
    "fig, axs = plt.subplots(ncols=2)\n",
    "plt.figure(1)\n",
    "plt.subplot(121)\n",
    "ax=sns.distplot(old_len,kde=True,hist=False,label=\"Old length\")\n",
    "plt.subplot(122)\n",
    "ax=sns.distplot(new_len,hist=False,label=\"New length\")\n"
   ]
  },
  {
   "cell_type": "code",
   "execution_count": 20,
   "metadata": {},
   "outputs": [
    {
     "name": "stderr",
     "output_type": "stream",
     "text": [
      "100%|██████████████████████████████████████████████████████████████████████████| 42511/42511 [00:16<00:00, 2513.86it/s]\n"
     ]
    },
    {
     "name": "stdout",
     "output_type": "stream",
     "text": [
      "Mean and median of previous lengths\n",
      "78.20074804168333\n",
      "56.0\n",
      "\n",
      "Mean and Median of clean data length\n",
      "38.454305944343815\n",
      "27.0\n"
     ]
    },
    {
     "data": {
      "image/png": "[encoded data removed]",
      "text/plain": [
       "<Figure size 432x288 with 2 Axes>"
      ]
     },
     "metadata": {
      "needs_background": "light"
     },
     "output_type": "display_data"
    }
   ],
   "source": [
    "#Text \n",
    "old_len=[]\n",
    "new_len=[]\n",
    "for i in tqdm(range(len(df))):\n",
    "    old_len.append(len(df.iloc[i]['Text'].split()))\n",
    "    new_len.append(len(df.iloc[i]['Clean_Text'].split()))\n",
    "\n",
    "\n",
    "print('Mean and median of previous lengths')\n",
    "print(np.mean(old_len))\n",
    "print(np.median(old_len))\n",
    "\n",
    "print('\\nMean and Median of clean data length')\n",
    "print(np.mean(new_len))\n",
    "print(np.median(new_len))\n",
    "\n",
    "fig, axs = plt.subplots(ncols=2)\n",
    "plt.figure(1)\n",
    "plt.subplot(121)\n",
    "ax=sns.distplot(old_len,kde=True,hist=False,label=\"Old length\")\n",
    "plt.subplot(122)\n",
    "ax=sns.distplot(new_len,hist=False,label=\"New length\")\n",
    "plt.show()\n"
   ]
  },
  {
   "cell_type": "code",
   "execution_count": 21,
   "metadata": {},
   "outputs": [],
   "source": [
    "# now we have cleaned the text so we need to remove the rows that were having garbage\n",
    "df.head()\n",
    "df.drop(['Text','Summary'],axis=1,inplace=True)"
   ]
  },
  {
   "cell_type": "code",
   "execution_count": 22,
   "metadata": {},
   "outputs": [],
   "source": [
    "df.drop('Id',axis=1,inplace=True)"
   ]
  },
  {
   "cell_type": "code",
   "execution_count": 23,
   "metadata": {},
   "outputs": [],
   "source": [
    "# saving back the cleaned data at particular location\n",
    "df.to_csv(r'D:\\study material\\ML\\Datasets\\amazon-fine-food-reviews\\Reviews_cleaned.csv',index=False)"
   ]
  },
  {
   "cell_type": "code",
   "execution_count": null,
   "metadata": {},
   "outputs": [],
   "source": []
  }
 ],
 "metadata": {
  "kernelspec": {
   "display_name": "Python 3",
   "language": "python",
   "name": "python3"
  },
  "language_info": {
   "codemirror_mode": {
    "name": "ipython",
    "version": 3
   },
   "file_extension": ".py",
   "mimetype": "text/x-python",
   "name": "python",
   "nbconvert_exporter": "python",
   "pygments_lexer": "ipython3",
   "version": "3.7.3"
  }
 },
 "nbformat": 4,
 "nbformat_minor": 2
}
