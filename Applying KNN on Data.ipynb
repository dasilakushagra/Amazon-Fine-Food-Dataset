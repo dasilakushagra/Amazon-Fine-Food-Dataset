{
 "cells": [
  {
   "cell_type": "markdown",
   "metadata": {},
   "source": [
    "# Applying Knn on our dataset.\n",
    "\n",
    "* Step 1: Split the data into training and test data.\n",
    "* Step 2: Converting the text into vectors(using all four techniques BoW, tfidf, avg word-2 vec and tfidf word-2 vec.\n",
    "* Step 3: Applying Knn on the training data.\n",
    "* Step 4: Performing hyper parameter tuning to find the best value of hyperparameter(k).\n",
    "* Step 5: Now plot Acurracy vs hyperparameters for different value of hyperparamter for crossvalidation and training data.\n",
    "* Step 6: Now train your model with this value of hyperparameter(k).\n",
    "* Step 7: Now plot the ROC curve for trainig and test data, for given value of hyperparameter.\n",
    "* Step 8: Now create confusion matrix.\n",
    "\n",
    "**Note: Repeat these all Steps for all word embedding technique and then also using kd-tree**"
   ]
  },
  {
   "cell_type": "code",
   "execution_count": 1,
   "metadata": {},
   "outputs": [],
   "source": [
    "# importing necessary modules\n",
    "import numpy as np\n",
    "import pandas as pd\n",
    "import matplotlib.pyplot as plt \n",
    "import seaborn as sns\n",
    "from sklearn.model_selection import train_test_split\n",
    "from sklearn.feature_extraction.text import CountVectorizer\n",
    "from sklearn.feature_extraction.text import TfidfVectorizer\n",
    "from sklearn.neighbors import KNeighborsClassifier\n",
    "from sklearn.model_selection import cross_val_score\n",
    "from tqdm import tqdm\n",
    "from sklearn.model_selection import KFold \n",
    "from sklearn.model_selection import GridSearchCV\n",
    "from sklearn.metrics import confusion_matrix\n",
    "from sklearn.metrics import roc_curve\n",
    "from sklearn.metrics import roc_auc_score\n",
    "from sklearn.metrics import precision_score\n",
    "from sklearn.metrics import recall_score\n",
    "from sklearn.metrics import f1_score\n",
    "from sklearn.metrics import accuracy_score\n",
    "from gensim.models import Word2Vec\n"
   ]
  },
  {
   "cell_type": "code",
   "execution_count": 2,
   "metadata": {},
   "outputs": [
    {
     "data": {
      "text/html": [
       "<div>\n",
       "<style scoped>\n",
       "    .dataframe tbody tr th:only-of-type {\n",
       "        vertical-align: middle;\n",
       "    }\n",
       "\n",
       "    .dataframe tbody tr th {\n",
       "        vertical-align: top;\n",
       "    }\n",
       "\n",
       "    .dataframe thead th {\n",
       "        text-align: right;\n",
       "    }\n",
       "</style>\n",
       "<table border=\"1\" class=\"dataframe\">\n",
       "  <thead>\n",
       "    <tr style=\"text-align: right;\">\n",
       "      <th></th>\n",
       "      <th>ProductId</th>\n",
       "      <th>UserId</th>\n",
       "      <th>HelpfulnessNumerator</th>\n",
       "      <th>HelpfulnessDenominator</th>\n",
       "      <th>Score</th>\n",
       "      <th>Time</th>\n",
       "      <th>Clean_Text</th>\n",
       "      <th>clean_summary</th>\n",
       "    </tr>\n",
       "  </thead>\n",
       "  <tbody>\n",
       "    <tr>\n",
       "      <th>0</th>\n",
       "      <td>B001E4KFG0</td>\n",
       "      <td>A3SGXH7AUHU8GW</td>\n",
       "      <td>1</td>\n",
       "      <td>1</td>\n",
       "      <td>1</td>\n",
       "      <td>1303862400</td>\n",
       "      <td>bought several vitality canned dog food produc...</td>\n",
       "      <td>good quality dog food</td>\n",
       "    </tr>\n",
       "    <tr>\n",
       "      <th>1</th>\n",
       "      <td>B00813GRG4</td>\n",
       "      <td>A1D87F6ZCVE5NK</td>\n",
       "      <td>0</td>\n",
       "      <td>0</td>\n",
       "      <td>0</td>\n",
       "      <td>1346976000</td>\n",
       "      <td>product arrived labeled jumbo salted peanut pe...</td>\n",
       "      <td>not advertised</td>\n",
       "    </tr>\n",
       "    <tr>\n",
       "      <th>2</th>\n",
       "      <td>B000LQOCH0</td>\n",
       "      <td>ABXLMWJIXXAIN</td>\n",
       "      <td>1</td>\n",
       "      <td>1</td>\n",
       "      <td>1</td>\n",
       "      <td>1219017600</td>\n",
       "      <td>confection around century light pillowy citrus...</td>\n",
       "      <td>delight say</td>\n",
       "    </tr>\n",
       "    <tr>\n",
       "      <th>3</th>\n",
       "      <td>B000UA0QIQ</td>\n",
       "      <td>A395BORC6FGVXV</td>\n",
       "      <td>3</td>\n",
       "      <td>3</td>\n",
       "      <td>0</td>\n",
       "      <td>1307923200</td>\n",
       "      <td>looking secret ingredient robitussin believe f...</td>\n",
       "      <td>cough medicine</td>\n",
       "    </tr>\n",
       "    <tr>\n",
       "      <th>4</th>\n",
       "      <td>B006K2ZZ7K</td>\n",
       "      <td>A1UQRSCLF8GW1T</td>\n",
       "      <td>0</td>\n",
       "      <td>0</td>\n",
       "      <td>1</td>\n",
       "      <td>1350777600</td>\n",
       "      <td>great taffy great price wide assortment yummy ...</td>\n",
       "      <td>great taffy</td>\n",
       "    </tr>\n",
       "  </tbody>\n",
       "</table>\n",
       "</div>"
      ],
      "text/plain": [
       "    ProductId          UserId  HelpfulnessNumerator  HelpfulnessDenominator  \\\n",
       "0  B001E4KFG0  A3SGXH7AUHU8GW                     1                       1   \n",
       "1  B00813GRG4  A1D87F6ZCVE5NK                     0                       0   \n",
       "2  B000LQOCH0   ABXLMWJIXXAIN                     1                       1   \n",
       "3  B000UA0QIQ  A395BORC6FGVXV                     3                       3   \n",
       "4  B006K2ZZ7K  A1UQRSCLF8GW1T                     0                       0   \n",
       "\n",
       "   Score        Time                                         Clean_Text  \\\n",
       "0      1  1303862400  bought several vitality canned dog food produc...   \n",
       "1      0  1346976000  product arrived labeled jumbo salted peanut pe...   \n",
       "2      1  1219017600  confection around century light pillowy citrus...   \n",
       "3      0  1307923200  looking secret ingredient robitussin believe f...   \n",
       "4      1  1350777600  great taffy great price wide assortment yummy ...   \n",
       "\n",
       "            clean_summary  \n",
       "0  good quality dog food   \n",
       "1         not advertised   \n",
       "2            delight say   \n",
       "3         cough medicine   \n",
       "4            great taffy   "
      ]
     },
     "execution_count": 2,
     "metadata": {},
     "output_type": "execute_result"
    }
   ],
   "source": [
    "#reading dataframe\n",
    "\n",
    "df=pd.read_csv(r'D:\\study material\\ML\\Datasets\\amazon-fine-food-reviews\\Reviews_cleaned.csv')\n",
    "df.head()"
   ]
  },
  {
   "cell_type": "code",
   "execution_count": 3,
   "metadata": {},
   "outputs": [],
   "source": [
    "# now sampling 8000 points with equal number of positve and negative class\n",
    "pos_pts=df[df['Score']==1].sample(n=4000,random_state=21)\n",
    "neg_pts=df[df['Score']==0].sample(n=4000,random_state=21)\n",
    "df=pd.concat([pos_pts,neg_pts])\n",
    "df['Time'] = pd.to_datetime(df['Time'], origin='unix', unit='s')\n",
    "df.sort_values('Time',inplace=True)"
   ]
  },
  {
   "cell_type": "code",
   "execution_count": 4,
   "metadata": {},
   "outputs": [
    {
     "data": {
      "text/plain": [
       "1    4000\n",
       "0    4000\n",
       "Name: Score, dtype: int64"
      ]
     },
     "execution_count": 4,
     "metadata": {},
     "output_type": "execute_result"
    }
   ],
   "source": [
    "df['Score'].value_counts()"
   ]
  },
  {
   "cell_type": "code",
   "execution_count": 5,
   "metadata": {},
   "outputs": [],
   "source": [
    "#changing the name of column \n",
    "df.rename(columns={'Clean_Text':'Text','clean_summary':'Summary'},inplace=True)"
   ]
  },
  {
   "cell_type": "code",
   "execution_count": 6,
   "metadata": {},
   "outputs": [],
   "source": [
    "df.fillna('',inplace=True)"
   ]
  },
  {
   "cell_type": "code",
   "execution_count": 7,
   "metadata": {},
   "outputs": [],
   "source": [
    "# Spliting the dataframe into train,and test dataset.\n",
    "X_train,X_test,y_train,y_test=train_test_split(df['Text'],df['Score'],test_size=0.3,random_state=42)"
   ]
  },
  {
   "cell_type": "code",
   "execution_count": 8,
   "metadata": {},
   "outputs": [
    {
     "name": "stdout",
     "output_type": "stream",
     "text": [
      "No of postive points in test set : 1185 \n",
      "No of negative points in training data : 1215\n"
     ]
    }
   ],
   "source": [
    "n=len(y_test)\n",
    "k=0\n",
    "for i in y_test:\n",
    "    if i==1:\n",
    "        k+=1\n",
    "print(\"No of postive points in test set :\",k,\"\\nNo of negative points in training data :\",n-k)"
   ]
  },
  {
   "cell_type": "code",
   "execution_count": 9,
   "metadata": {},
   "outputs": [
    {
     "name": "stdout",
     "output_type": "stream",
     "text": [
      "The shape of the train and test datasets : (5600,) (2400,) (5600,) (2400,)\n"
     ]
    }
   ],
   "source": [
    "#Shape of dataframes\n",
    "print(\"The shape of the train and test datasets :\",X_train.shape,X_test.shape,y_train.shape,y_test.shape)"
   ]
  },
  {
   "cell_type": "markdown",
   "metadata": {},
   "source": [
    "# 1. Applying Knn with Bow"
   ]
  },
  {
   "cell_type": "markdown",
   "metadata": {},
   "source": [
    "## 1.1 Spliiting data into test and train and applyinng knn with default parameters"
   ]
  },
  {
   "cell_type": "code",
   "execution_count": 10,
   "metadata": {},
   "outputs": [],
   "source": [
    "# applying Bag of words on both test and training data\n",
    "def conv_bow(X_train,X_test):\n",
    "    count_vect=CountVectorizer(ngram_range=(1,2),min_df=10,max_features=3000)\n",
    "    X_train_vect=count_vect.fit_transform(X_train)\n",
    "    X_test_vect=count_vect.transform(X_test)\n",
    "    return X_train_vect,X_test_vect"
   ]
  },
  {
   "cell_type": "code",
   "execution_count": 11,
   "metadata": {},
   "outputs": [],
   "source": [
    "X_train_vect,X_test_vect=conv_bow(X_train,X_test)"
   ]
  },
  {
   "cell_type": "code",
   "execution_count": 12,
   "metadata": {},
   "outputs": [
    {
     "data": {
      "text/plain": [
       "(5600, 3000)"
      ]
     },
     "execution_count": 12,
     "metadata": {},
     "output_type": "execute_result"
    }
   ],
   "source": [
    "X_train_vect.shape"
   ]
  },
  {
   "cell_type": "code",
   "execution_count": 13,
   "metadata": {},
   "outputs": [
    {
     "data": {
      "text/plain": [
       "(2400, 3000)"
      ]
     },
     "execution_count": 13,
     "metadata": {},
     "output_type": "execute_result"
    }
   ],
   "source": [
    "X_test_vect.shape"
   ]
  },
  {
   "cell_type": "code",
   "execution_count": 14,
   "metadata": {},
   "outputs": [],
   "source": [
    "X_train_vect=X_train_vect.toarray()\n",
    "X_test_vect=X_test_vect.toarray()"
   ]
  },
  {
   "cell_type": "code",
   "execution_count": 15,
   "metadata": {},
   "outputs": [
    {
     "data": {
      "text/plain": [
       "0.6204166666666666"
      ]
     },
     "execution_count": 15,
     "metadata": {},
     "output_type": "execute_result"
    }
   ],
   "source": [
    "#Applying knn on the data with default values\n",
    "knn=KNeighborsClassifier(algorithm='brute')\n",
    "knn.fit(X_train_vect,y_train.ravel())\n",
    "knn.score(X_test_vect,y_test.ravel())"
   ]
  },
  {
   "cell_type": "markdown",
   "metadata": {},
   "source": [
    "## 1.2 K-Fold Cross Validation :\n",
    "* Performing 10-fold cross validation on the training data."
   ]
  },
  {
   "cell_type": "code",
   "execution_count": 16,
   "metadata": {},
   "outputs": [
    {
     "name": "stderr",
     "output_type": "stream",
     "text": [
      "100%|██████████████████████████████████████████████████████████████████████████████████| 33/33 [03:30<00:00,  6.59s/it]\n"
     ]
    }
   ],
   "source": [
    "#using cross validation to find the best hyperparameters\n",
    "acc=[]\n",
    "param_k=list(range(1,100,3))\n",
    "for i in tqdm(param_k):\n",
    "    knn.n_neighbors=i\n",
    "    sco=cross_val_score(knn,X_train_vect,y_train.ravel(),cv=10,scoring='accuracy')\n",
    "    acc.append(1-np.mean(sco))"
   ]
  },
  {
   "cell_type": "code",
   "execution_count": 17,
   "metadata": {},
   "outputs": [
    {
     "data": {
      "image/png": "[encoded data removed]",
      "text/plain": [
       "<Figure size 432x288 with 1 Axes>"
      ]
     },
     "metadata": {
      "needs_background": "light"
     },
     "output_type": "display_data"
    }
   ],
   "source": [
    "#ploting graph between hyperparameter-k and error for each vaue of k.\n",
    "sns.lineplot(param_k,acc)\n",
    "plt.xlabel(\"Hyperparamter value\")\n",
    "plt.ylim(0.3,0.4)\n",
    "plt.ylabel(\"error\")\n",
    "plt.grid()\n",
    "plt.show()"
   ]
  },
  {
   "cell_type": "code",
   "execution_count": 18,
   "metadata": {},
   "outputs": [
    {
     "data": {
      "image/png": "[encoded data removed]",
      "text/plain": [
       "<Figure size 432x288 with 1 Axes>"
      ]
     },
     "metadata": {
      "needs_background": "light"
     },
     "output_type": "display_data"
    }
   ],
   "source": [
    "X_tr,X_cv,y_tr,y_cv=train_test_split(X_train,y_train,test_size=0.3,random_state=42)\n",
    "X_tr,X_cv=conv_bow(X_tr,X_cv)\n",
    "train_error=[]\n",
    "test_error=[]\n",
    "for i in range(1,100,2):\n",
    "    knn.n_neighbors=i\n",
    "    knn.fit(X_tr,y_tr.ravel())\n",
    "    y_pred_tr=knn.predict(X_tr)\n",
    "    y_pred_cv=knn.predict(X_cv)\n",
    "    train_error.append(1-accuracy_score(y_tr,y_pred_tr))\n",
    "    test_error.append(1-accuracy_score(y_cv,y_pred_cv))\n",
    "    \n",
    "sns.lineplot(list(range(1,100,2)),train_error,label='Training error')\n",
    "sns.lineplot(list(range(1,100,2)),test_error,label=\"CV error\")\n",
    "plt.grid()\n",
    "plt.ylim(0.0,0.4)\n",
    "plt.show()\n"
   ]
  },
  {
   "cell_type": "markdown",
   "metadata": {},
   "source": [
    "## 1.3 Grid-Search CV :\n",
    "* Using Grid-Search CV to find the best hyperparams "
   ]
  },
  {
   "cell_type": "code",
   "execution_count": 19,
   "metadata": {},
   "outputs": [
    {
     "data": {
      "text/plain": [
       "GridSearchCV(cv=10, error_score='raise-deprecating',\n",
       "             estimator=KNeighborsClassifier(algorithm='brute', leaf_size=30,\n",
       "                                            metric='minkowski',\n",
       "                                            metric_params=None, n_jobs=None,\n",
       "                                            n_neighbors=99, p=2,\n",
       "                                            weights='uniform'),\n",
       "             iid='warn', n_jobs=-1,\n",
       "             param_grid={'n_neighbors': [1, 2, 3, 4, 5, 6, 7, 8, 9, 10, 11, 12,\n",
       "                                         13, 14, 15, 16, 17, 18, 19]},\n",
       "             pre_dispatch='2*n_jobs', refit=True, return_train_score=False,\n",
       "             scoring='accuracy', verbose=0)"
      ]
     },
     "execution_count": 19,
     "metadata": {},
     "output_type": "execute_result"
    }
   ],
   "source": [
    "params={'n_neighbors':list(range(1,20))}\n",
    "clf=GridSearchCV(knn,params,cv=10,n_jobs=-1,scoring='accuracy')\n",
    "clf.fit(X_train_vect,y_train.ravel())"
   ]
  },
  {
   "cell_type": "code",
   "execution_count": 20,
   "metadata": {},
   "outputs": [
    {
     "data": {
      "text/plain": [
       "{'n_neighbors': 10}"
      ]
     },
     "execution_count": 20,
     "metadata": {},
     "output_type": "execute_result"
    }
   ],
   "source": [
    "best_pram=clf.best_params_\n",
    "best_pram"
   ]
  },
  {
   "cell_type": "code",
   "execution_count": 21,
   "metadata": {},
   "outputs": [
    {
     "data": {
      "text/plain": [
       "0.65375"
      ]
     },
     "execution_count": 21,
     "metadata": {},
     "output_type": "execute_result"
    }
   ],
   "source": [
    "clf.best_score_"
   ]
  },
  {
   "cell_type": "code",
   "execution_count": 22,
   "metadata": {},
   "outputs": [
    {
     "data": {
      "text/plain": [
       "0.6345833333333334"
      ]
     },
     "execution_count": 22,
     "metadata": {},
     "output_type": "execute_result"
    }
   ],
   "source": [
    "#accuracy of best parameter\n",
    "knn.n_neighbors=best_pram['n_neighbors']\n",
    "# clf.best_params_['n_neighbors']\n",
    "knn.fit(X_train_vect,y_train.ravel())\n",
    "knn.score(X_test_vect,y_test.ravel())"
   ]
  },
  {
   "cell_type": "markdown",
   "metadata": {},
   "source": [
    "# Conclusion (Hyperparameter Tuning):\n",
    "* so when use K-Fold Cross validation for finding the best value of hyper_paramter k , we saw that the error is minimum at k=10.\n",
    "* Same way we performed grid search CV on our dataset and it automatically returns the best hyperparamter between the range we have entered."
   ]
  },
  {
   "cell_type": "markdown",
   "metadata": {},
   "source": [
    "## 1.4 ROC curve and AUC :"
   ]
  },
  {
   "cell_type": "code",
   "execution_count": 23,
   "metadata": {},
   "outputs": [
    {
     "data": {
      "image/png": "[encoded data removed]",
      "text/plain": [
       "<Figure size 432x288 with 1 Axes>"
      ]
     },
     "metadata": {
      "needs_background": "light"
     },
     "output_type": "display_data"
    }
   ],
   "source": [
    "# Drawing Roc curve for both training and test data \n",
    "probs1 = knn.predict_proba(X_test_vect)[:,1]\n",
    "probs2 = knn.predict_proba(X_train_vect)[:,1]\n",
    "\n",
    "fpr1, tpr1, threshold = roc_curve(y_test, probs1)\n",
    "fpr2, tpr2, threshold = roc_curve(y_train, probs2)\n",
    "roc_auc1=roc_auc_score(y_test,probs1)\n",
    "roc_auc2=roc_auc_score(y_train,probs2)\n",
    "\n",
    "plt.title('Receiver Operating Characteristic Curve')\n",
    "sns.lineplot(fpr1, tpr1, label = 'Test_data = {:0.2f}'.format(roc_auc1))\n",
    "sns.lineplot(fpr2, tpr2, label = 'Train_data = {:0.2f}'.format(roc_auc2))\n",
    "sns.lineplot([0, 1], [0, 1])\n",
    "plt.xlim([0, 1])\n",
    "plt.ylim([0, 1])\n",
    "plt.ylabel('True Positive Rate')\n",
    "plt.xlabel('False Positive Rate')\n",
    "plt.show()\n"
   ]
  },
  {
   "cell_type": "markdown",
   "metadata": {},
   "source": [
    "## 1.5 Confusion Matrix"
   ]
  },
  {
   "cell_type": "code",
   "execution_count": 24,
   "metadata": {},
   "outputs": [
    {
     "data": {
      "image/png": "[encoded data removed]",
      "text/plain": [
       "<Figure size 432x288 with 2 Axes>"
      ]
     },
     "metadata": {
      "needs_background": "light"
     },
     "output_type": "display_data"
    }
   ],
   "source": [
    "y_pred=knn.predict(X_test_vect)\n",
    "con=confusion_matrix(y_test,y_pred)\n",
    "# con[0]=(con[0]*100)/np.sum(con[0])\n",
    "# con[1]=(con[1]*100)/np.sum(con[1])\n",
    "con=pd.DataFrame(con,index=['Negative','Positive'],columns=['Negative','Positive'])\n",
    "sns.heatmap(con,annot=True,fmt='d',cmap='coolwarm')\n",
    "plt.title('Confusion Matrix')\n",
    "plt.xlabel(\"predicted label\")\n",
    "plt.ylabel(\"true label\")\n",
    "plt.show()"
   ]
  },
  {
   "cell_type": "code",
   "execution_count": 25,
   "metadata": {},
   "outputs": [
    {
     "name": "stdout",
     "output_type": "stream",
     "text": [
      "Precision Score 0.5895348837209302\n"
     ]
    }
   ],
   "source": [
    "y_pred=knn.predict(X_test_vect)\n",
    "print(\"Precision Score\",precision_score(y_test,y_pred))"
   ]
  },
  {
   "cell_type": "code",
   "execution_count": 26,
   "metadata": {},
   "outputs": [
    {
     "name": "stdout",
     "output_type": "stream",
     "text": [
      "Recall Score 0.8556962025316456\n"
     ]
    }
   ],
   "source": [
    "print(\"Recall Score\",recall_score(y_test,y_pred))"
   ]
  },
  {
   "cell_type": "code",
   "execution_count": 27,
   "metadata": {},
   "outputs": [
    {
     "name": "stdout",
     "output_type": "stream",
     "text": [
      "F1 score 0.6981067125645439\n"
     ]
    }
   ],
   "source": [
    "print('F1 score',f1_score(y_test,y_pred))"
   ]
  },
  {
   "cell_type": "markdown",
   "metadata": {},
   "source": [
    "# 2.1 Applying Knn with Tfidf "
   ]
  },
  {
   "cell_type": "code",
   "execution_count": 28,
   "metadata": {},
   "outputs": [],
   "source": [
    "def tfidf(X_train,X_test):\n",
    "    tfidf=TfidfVectorizer(ngram_range=(1,2),max_features=5000,min_df=10)\n",
    "    a=tfidf.fit_transform(X_train).toarray()\n",
    "    b=tfidf.transform(X_test).toarray()\n",
    "    return a,b"
   ]
  },
  {
   "cell_type": "code",
   "execution_count": 29,
   "metadata": {},
   "outputs": [],
   "source": [
    "X_train_vect,X_test_vect=tfidf(X_train,X_test)"
   ]
  },
  {
   "cell_type": "code",
   "execution_count": 30,
   "metadata": {},
   "outputs": [
    {
     "data": {
      "text/plain": [
       "(5600, 3528)"
      ]
     },
     "execution_count": 30,
     "metadata": {},
     "output_type": "execute_result"
    }
   ],
   "source": [
    "X_train_vect.shape"
   ]
  },
  {
   "cell_type": "code",
   "execution_count": 31,
   "metadata": {},
   "outputs": [
    {
     "data": {
      "text/plain": [
       "(2400, 3528)"
      ]
     },
     "execution_count": 31,
     "metadata": {},
     "output_type": "execute_result"
    }
   ],
   "source": [
    "X_test_vect.shape"
   ]
  },
  {
   "cell_type": "code",
   "execution_count": 32,
   "metadata": {},
   "outputs": [
    {
     "data": {
      "text/plain": [
       "(5600,)"
      ]
     },
     "execution_count": 32,
     "metadata": {},
     "output_type": "execute_result"
    }
   ],
   "source": [
    "y_train.shape"
   ]
  },
  {
   "cell_type": "code",
   "execution_count": 33,
   "metadata": {},
   "outputs": [
    {
     "data": {
      "text/plain": [
       "(2400,)"
      ]
     },
     "execution_count": 33,
     "metadata": {},
     "output_type": "execute_result"
    }
   ],
   "source": [
    "y_test.shape"
   ]
  },
  {
   "cell_type": "code",
   "execution_count": 34,
   "metadata": {},
   "outputs": [
    {
     "data": {
      "text/plain": [
       "0.6695833333333333"
      ]
     },
     "execution_count": 34,
     "metadata": {},
     "output_type": "execute_result"
    }
   ],
   "source": [
    "#Applying knn on the data with default values\n",
    "knn=KNeighborsClassifier(algorithm='brute')\n",
    "knn.fit(X_train_vect,y_train.ravel())\n",
    "knn.score(X_test_vect,y_test.ravel())"
   ]
  },
  {
   "cell_type": "markdown",
   "metadata": {},
   "source": [
    "# 2.2 K-Fold Cross Validation :\n",
    "* Performing 10-fold cross validation on the training data."
   ]
  },
  {
   "cell_type": "code",
   "execution_count": 35,
   "metadata": {},
   "outputs": [
    {
     "name": "stderr",
     "output_type": "stream",
     "text": [
      "100%|████████████████████████████████████████████████████████████████████████████████| 100/100 [12:52<00:00,  8.05s/it]\n"
     ]
    }
   ],
   "source": [
    "#using cross validation to find the best hyperparameters\n",
    "acc=[]\n",
    "param_k=list(range(1,1000,10))\n",
    "for i in tqdm(param_k):\n",
    "    knn.n_neighbors=i\n",
    "    sco=cross_val_score(knn,X_train_vect,y_train.ravel(),cv=10,scoring='accuracy')\n",
    "    acc.append(np.mean(sco))"
   ]
  },
  {
   "cell_type": "code",
   "execution_count": 36,
   "metadata": {},
   "outputs": [
    {
     "data": {
      "image/png": "[encoded data removed]",
      "text/plain": [
       "<Figure size 432x288 with 1 Axes>"
      ]
     },
     "metadata": {
      "needs_background": "light"
     },
     "output_type": "display_data"
    }
   ],
   "source": [
    "#ploting graph between hyperparameter-k and accuracy for each vaue of k.\n",
    "sns.lineplot(param_k,acc)\n",
    "plt.xlabel(\"Hyperparamter value\")\n",
    "plt.ylabel(\"Error\")\n",
    "plt.grid()\n",
    "plt.show()"
   ]
  },
  {
   "cell_type": "code",
   "execution_count": 37,
   "metadata": {},
   "outputs": [
    {
     "name": "stderr",
     "output_type": "stream",
     "text": [
      "100%|██████████████████████████████████████████████████████████████████████████████████| 50/50 [01:28<00:00,  1.98s/it]\n"
     ]
    }
   ],
   "source": [
    "X_tr,X_cv,y_tr,y_cv=train_test_split(X_train,y_train,test_size=0.3,random_state=42)\n",
    "X_tr,X_cv=conv_bow(X_tr,X_cv)\n",
    "train_error=[]\n",
    "test_error=[]\n",
    "for i in tqdm(range(1,1000,20)):\n",
    "    knn.n_neighbors=i\n",
    "    knn.fit(X_tr,y_tr.ravel())\n",
    "    y_pred_tr=knn.predict(X_tr)\n",
    "    y_pred_cv=knn.predict(X_cv)\n",
    "    train_error.append(1-accuracy_score(y_tr,y_pred_tr))\n",
    "    test_error.append(1-accuracy_score(y_cv,y_pred_cv))\n",
    "    "
   ]
  },
  {
   "cell_type": "code",
   "execution_count": 38,
   "metadata": {},
   "outputs": [
    {
     "data": {
      "image/png": "[encoded data removed]",
      "text/plain": [
       "<Figure size 432x288 with 1 Axes>"
      ]
     },
     "metadata": {
      "needs_background": "light"
     },
     "output_type": "display_data"
    }
   ],
   "source": [
    "sns.lineplot(list(range(1,1000,20)),train_error,label='Training error')\n",
    "sns.lineplot(list(range(1,1000,20)),test_error,label=\"Cross-validation error\")\n",
    "plt.grid()\n",
    "plt.show()"
   ]
  },
  {
   "cell_type": "markdown",
   "metadata": {},
   "source": [
    "# 2.3 Grid-Search CV :\n",
    "* Using Grid-Search CV to find the best hyperparams "
   ]
  },
  {
   "cell_type": "code",
   "execution_count": 39,
   "metadata": {},
   "outputs": [
    {
     "data": {
      "text/plain": [
       "GridSearchCV(cv=10, error_score='raise-deprecating',\n",
       "             estimator=KNeighborsClassifier(algorithm='brute', leaf_size=30,\n",
       "                                            metric='minkowski',\n",
       "                                            metric_params=None, n_jobs=None,\n",
       "                                            n_neighbors=981, p=2,\n",
       "                                            weights='uniform'),\n",
       "             iid='warn', n_jobs=-1,\n",
       "             param_grid={'n_neighbors': [1, 21, 41, 61, 81, 101, 121, 141, 161,\n",
       "                                         181, 201, 221, 241, 261, 281, 301, 321,\n",
       "                                         341, 361, 381, 401, 421, 441, 461, 481,\n",
       "                                         501, 521, 541, 561, 581, ...]},\n",
       "             pre_dispatch='2*n_jobs', refit=True, return_train_score=False,\n",
       "             scoring='accuracy', verbose=0)"
      ]
     },
     "execution_count": 39,
     "metadata": {},
     "output_type": "execute_result"
    }
   ],
   "source": [
    "params={'n_neighbors':list(range(1,1000,20))}\n",
    "clf=GridSearchCV(knn,params,cv=10,n_jobs=-1,scoring='accuracy')\n",
    "clf.fit(X_train_vect,y_train.ravel())"
   ]
  },
  {
   "cell_type": "code",
   "execution_count": 40,
   "metadata": {},
   "outputs": [
    {
     "data": {
      "text/plain": [
       "{'n_neighbors': 361}"
      ]
     },
     "execution_count": 40,
     "metadata": {},
     "output_type": "execute_result"
    }
   ],
   "source": [
    "x=clf.best_params_\n",
    "x"
   ]
  },
  {
   "cell_type": "code",
   "execution_count": 41,
   "metadata": {},
   "outputs": [
    {
     "data": {
      "text/plain": [
       "0.82375"
      ]
     },
     "execution_count": 41,
     "metadata": {},
     "output_type": "execute_result"
    }
   ],
   "source": [
    "#accuracy of best parameter\n",
    "knn.n_neighbors=361\n",
    "knn.fit(X_train_vect,y_train.ravel())\n",
    "knn.score(X_test_vect,y_test.ravel())"
   ]
  },
  {
   "cell_type": "markdown",
   "metadata": {},
   "source": [
    "# 2.4 ROC curve and AUC :"
   ]
  },
  {
   "cell_type": "code",
   "execution_count": 42,
   "metadata": {},
   "outputs": [
    {
     "data": {
      "image/png": "[encoded data removed]",
      "text/plain": [
       "<Figure size 432x288 with 1 Axes>"
      ]
     },
     "metadata": {
      "needs_background": "light"
     },
     "output_type": "display_data"
    }
   ],
   "source": [
    "\n",
    "# Drawing Roc curve for both training and test data \n",
    "probs1 = knn.predict_proba(X_test_vect)[:,1]\n",
    "probs2 = knn.predict_proba(X_train_vect)[:,1]\n",
    "\n",
    "fpr1, tpr1, threshold = roc_curve(y_test, probs1)\n",
    "fpr2, tpr2, threshold = roc_curve(y_train, probs2)\n",
    "roc_auc1=roc_auc_score(y_test,probs1)\n",
    "roc_auc2=roc_auc_score(y_train,probs2)\n",
    "\n",
    "plt.title('Receiver Operating Characteristic Curve')\n",
    "plt.plot(fpr1, tpr1, 'b', label = 'Test_data = {:0.2f}'.format(roc_auc1))\n",
    "plt.plot(fpr2, tpr2, 'b', label = 'Train_data = {:0.2f}'.format(roc_auc2),c='r')\n",
    "plt.legend(loc = 'lower right')\n",
    "plt.plot([0, 1], [0, 1],'g--')\n",
    "plt.xlim([0, 1])\n",
    "plt.ylim([0, 1])\n",
    "plt.ylabel('True Positive Rate')\n",
    "plt.xlabel('False Positive Rate')\n",
    "plt.show()\n"
   ]
  },
  {
   "cell_type": "markdown",
   "metadata": {},
   "source": [
    "# 2.5 Confusion Matrix:"
   ]
  },
  {
   "cell_type": "code",
   "execution_count": 43,
   "metadata": {},
   "outputs": [
    {
     "data": {
      "image/png": "[encoded data removed]",
      "text/plain": [
       "<Figure size 432x288 with 2 Axes>"
      ]
     },
     "metadata": {
      "needs_background": "light"
     },
     "output_type": "display_data"
    }
   ],
   "source": [
    "# now using k=10 to train our model and \n",
    "knn.n_neighbors=431\n",
    "knn.fit(X_train_vect,y_train.ravel())\n",
    "# knn.score(X_test_vect,y_test.ravel())\n",
    "P=np.sum(y_test)\n",
    "N=len(y_test)-P\n",
    "y_pred=knn.predict(X_test_vect)\n",
    "con=confusion_matrix(y_test,y_pred)\n",
    "# con[0]=(con[0]*100)/np.sum(con[0])\n",
    "# con[1]=(con[1]*100)/np.sum(con[1])\n",
    "con=pd.DataFrame(con,index=['Negative','Positive'],columns=['Negative','Positive'])\n",
    "sns.heatmap(con,annot=True,fmt='d',cmap='coolwarm')\n",
    "plt.title('Confusion Matrix')\n",
    "plt.xlabel(\"predicted label\")\n",
    "plt.ylabel(\"true label\")\n",
    "plt.show()"
   ]
  },
  {
   "cell_type": "code",
   "execution_count": 44,
   "metadata": {},
   "outputs": [
    {
     "name": "stdout",
     "output_type": "stream",
     "text": [
      "Precision Score 0.8163934426229508\n"
     ]
    }
   ],
   "source": [
    "y_pred=knn.predict(X_test_vect)\n",
    "print(\"Precision Score\",precision_score(y_test,y_pred))"
   ]
  },
  {
   "cell_type": "code",
   "execution_count": 45,
   "metadata": {},
   "outputs": [
    {
     "name": "stdout",
     "output_type": "stream",
     "text": [
      "Recall Score 0.8405063291139241\n"
     ]
    }
   ],
   "source": [
    "\n",
    "print(\"Recall Score\",recall_score(y_test,y_pred))"
   ]
  },
  {
   "cell_type": "code",
   "execution_count": 46,
   "metadata": {},
   "outputs": [
    {
     "name": "stdout",
     "output_type": "stream",
     "text": [
      "F1 score 0.8282744282744282\n"
     ]
    }
   ],
   "source": [
    "print('F1 score',f1_score(y_test,y_pred))"
   ]
  },
  {
   "cell_type": "markdown",
   "metadata": {},
   "source": [
    "# 3.1 Applying knn with word-2-vec"
   ]
  },
  {
   "cell_type": "code",
   "execution_count": 47,
   "metadata": {},
   "outputs": [],
   "source": [
    "def conv_w2v(list_of_sent):\n",
    "    word_vect=[]\n",
    "    for sent in tqdm(list_of_sent):\n",
    "        temp=np.zeros(50)\n",
    "        count_words=0\n",
    "        for word in sent:\n",
    "            if word in w2v_model.wv:\n",
    "                temp+=w2v_model.wv[word]\n",
    "                count_words+=1\n",
    "        if count_words:\n",
    "            word_vect.append(temp/count_words)\n",
    "    return word_vect"
   ]
  },
  {
   "cell_type": "code",
   "execution_count": 48,
   "metadata": {},
   "outputs": [],
   "source": [
    "def con_list_of_sent(arr):\n",
    "    sent=[]\n",
    "    for i in arr:\n",
    "        sent.append(i.split())\n",
    "    return sent\n"
   ]
  },
  {
   "cell_type": "code",
   "execution_count": 49,
   "metadata": {},
   "outputs": [
    {
     "name": "stderr",
     "output_type": "stream",
     "text": [
      "100%|████████████████████████████████████████████████████████████████████████████| 5600/5600 [00:00<00:00, 7122.29it/s]\n",
      "100%|████████████████████████████████████████████████████████████████████████████| 2400/2400 [00:00<00:00, 7083.80it/s]\n"
     ]
    }
   ],
   "source": [
    "\n",
    "list_of_sent=con_list_of_sent(df['Text'])\n",
    "w2v_model=Word2Vec(list_of_sent,min_count=5,size=50, workers=4)\n",
    "#converting training data into w2v \n",
    "list_of_sent=con_list_of_sent(X_train)\n",
    "X_train_vect=conv_w2v(list_of_sent)\n",
    "\n",
    "#converting test data into w2v\n",
    "list_of_sent=con_list_of_sent(X_test)\n",
    "X_test_vect=conv_w2v(list_of_sent)\n",
    "\n"
   ]
  },
  {
   "cell_type": "code",
   "execution_count": 50,
   "metadata": {},
   "outputs": [
    {
     "data": {
      "text/plain": [
       "0.65625"
      ]
     },
     "execution_count": 50,
     "metadata": {},
     "output_type": "execute_result"
    }
   ],
   "source": [
    "# applying knn brute force\n",
    "knn=KNeighborsClassifier()\n",
    "knn.fit(X_train_vect,y_train)\n",
    "knn.score(X_test_vect,y_test)"
   ]
  },
  {
   "cell_type": "markdown",
   "metadata": {},
   "source": [
    "# 3.2 Applying K-fold cross validation"
   ]
  },
  {
   "cell_type": "code",
   "execution_count": 51,
   "metadata": {},
   "outputs": [
    {
     "name": "stderr",
     "output_type": "stream",
     "text": [
      "100%|██████████████████████████████████████████████████████████████████████████████████| 99/99 [04:02<00:00,  3.23s/it]\n"
     ]
    }
   ],
   "source": [
    "#using cross validation to find the best hyperparameters\n",
    "acc=[]\n",
    "param_k=list(range(1,100))\n",
    "for i in tqdm(param_k):\n",
    "    knn.n_neighbors=i\n",
    "    sco=cross_val_score(knn,X_train_vect,y_train.ravel(),cv=10,scoring='accuracy')\n",
    "    acc.append(np.mean(sco))"
   ]
  },
  {
   "cell_type": "code",
   "execution_count": 52,
   "metadata": {},
   "outputs": [
    {
     "data": {
      "image/png": "[encoded data removed]",
      "text/plain": [
       "<Figure size 432x288 with 1 Axes>"
      ]
     },
     "metadata": {
      "needs_background": "light"
     },
     "output_type": "display_data"
    }
   ],
   "source": [
    "#ploting graph between hyperparameter-k and accuracy for each vaue of k.\n",
    "sns.lineplot(param_k,acc)\n",
    "plt.xlabel(\"Hyperparamter value\")\n",
    "plt.ylabel(\"accuracy\")\n",
    "plt.ylim(0.6,0.7)\n",
    "plt.grid()\n",
    "plt.show()"
   ]
  },
  {
   "cell_type": "code",
   "execution_count": 53,
   "metadata": {},
   "outputs": [
    {
     "name": "stderr",
     "output_type": "stream",
     "text": [
      "100%|████████████████████████████████████████████████████████████████████████████| 3920/3920 [00:00<00:00, 7018.92it/s]\n",
      "100%|████████████████████████████████████████████████████████████████████████████| 1680/1680 [00:00<00:00, 6747.71it/s]\n",
      "100%|██████████████████████████████████████████████████████████████████████████████████| 50/50 [01:49<00:00,  2.30s/it]\n"
     ]
    }
   ],
   "source": [
    "X_tr,X_cv,y_tr,y_cv=train_test_split(X_train,y_train,test_size=0.3,random_state=42)\n",
    "X_tr,X_cv=list_of_sent=con_list_of_sent(X_tr),con_list_of_sent(X_cv)\n",
    "X_tr_vect,X_cv_vect=conv_w2v(X_tr),conv_w2v(X_cv)\n",
    "train_error=[]\n",
    "test_error=[]\n",
    "for i in tqdm(range(1,100,2)):\n",
    "    knn.n_neighbors=i\n",
    "    knn.fit(X_tr_vect,y_tr)\n",
    "    y_pred_tr=knn.predict(X_tr_vect)\n",
    "    y_pred_cv=knn.predict(X_cv_vect)\n",
    "    train_error.append(1-accuracy_score(y_tr,y_pred_tr))\n",
    "    test_error.append(1-accuracy_score(y_cv,y_pred_cv))\n",
    "    "
   ]
  },
  {
   "cell_type": "code",
   "execution_count": 54,
   "metadata": {},
   "outputs": [
    {
     "data": {
      "image/png": "[encoded data removed]",
      "text/plain": [
       "<Figure size 432x288 with 1 Axes>"
      ]
     },
     "metadata": {
      "needs_background": "light"
     },
     "output_type": "display_data"
    }
   ],
   "source": [
    "sns.lineplot(list(range(1,100,2)),train_error,label='Training error')\n",
    "sns.lineplot(list(range(1,100,2)),test_error,label=\"Cross-validation error\")\n",
    "plt.grid()\n",
    "plt.show()"
   ]
  },
  {
   "cell_type": "markdown",
   "metadata": {},
   "source": [
    "# 3.3 Grid Search CV\n"
   ]
  },
  {
   "cell_type": "code",
   "execution_count": 55,
   "metadata": {},
   "outputs": [
    {
     "data": {
      "text/plain": [
       "GridSearchCV(cv=10, error_score='raise-deprecating',\n",
       "             estimator=KNeighborsClassifier(algorithm='auto', leaf_size=30,\n",
       "                                            metric='minkowski',\n",
       "                                            metric_params=None, n_jobs=None,\n",
       "                                            n_neighbors=99, p=2,\n",
       "                                            weights='uniform'),\n",
       "             iid='warn', n_jobs=-1,\n",
       "             param_grid={'n_neighbors': [1, 3, 5, 7, 9, 11, 13, 15, 17, 19, 21,\n",
       "                                         23, 25, 27, 29, 31, 33, 35, 37, 39, 41,\n",
       "                                         43, 45, 47, 49, 51, 53, 55, 57, 59]},\n",
       "             pre_dispatch='2*n_jobs', refit=True, return_train_score=False,\n",
       "             scoring='accuracy', verbose=0)"
      ]
     },
     "execution_count": 55,
     "metadata": {},
     "output_type": "execute_result"
    }
   ],
   "source": [
    "params={'n_neighbors':list(range(1,60,2))}\n",
    "clf=GridSearchCV(knn,params,cv=10,n_jobs=-1,scoring='accuracy')\n",
    "clf.fit(X_train_vect,y_train.ravel())"
   ]
  },
  {
   "cell_type": "code",
   "execution_count": 56,
   "metadata": {},
   "outputs": [
    {
     "data": {
      "text/plain": [
       "{'n_neighbors': 31}"
      ]
     },
     "execution_count": 56,
     "metadata": {},
     "output_type": "execute_result"
    }
   ],
   "source": [
    "x=clf.best_params_\n",
    "x"
   ]
  },
  {
   "cell_type": "code",
   "execution_count": 57,
   "metadata": {},
   "outputs": [
    {
     "data": {
      "text/plain": [
       "0.6829166666666666"
      ]
     },
     "execution_count": 57,
     "metadata": {},
     "output_type": "execute_result"
    }
   ],
   "source": [
    "#accuracy of best parameter\n",
    "knn.n_neighbors=47\n",
    "knn.fit(X_train_vect,y_train.ravel())\n",
    "knn.score(X_test_vect,y_test.ravel())"
   ]
  },
  {
   "cell_type": "markdown",
   "metadata": {},
   "source": [
    "# 3.4 ROC curve and AUC :\n"
   ]
  },
  {
   "cell_type": "code",
   "execution_count": 58,
   "metadata": {},
   "outputs": [
    {
     "data": {
      "image/png": "[encoded data removed]",
      "text/plain": [
       "<Figure size 432x288 with 1 Axes>"
      ]
     },
     "metadata": {
      "needs_background": "light"
     },
     "output_type": "display_data"
    }
   ],
   "source": [
    "\n",
    "# Drawing Roc curve for both training and test data \n",
    "probs1 = knn.predict_proba(X_test_vect)[:,1]\n",
    "probs2 = knn.predict_proba(X_train_vect)[:,1]\n",
    "\n",
    "fpr1, tpr1, threshold = roc_curve(y_test, probs1)\n",
    "fpr2, tpr2, threshold = roc_curve(y_train, probs2)\n",
    "roc_auc1=roc_auc_score(y_test,probs1)\n",
    "roc_auc2=roc_auc_score(y_train,probs2)\n",
    "\n",
    "plt.title('Receiver Operating Characteristic Curve')\n",
    "plt.plot(fpr1, tpr1, 'b', label = 'Test_data = {:0.2f}'.format(roc_auc1))\n",
    "plt.plot(fpr2, tpr2, 'b', label = 'Train_data = {:0.2f}'.format(roc_auc2),c='r')\n",
    "plt.legend(loc = 'lower right')\n",
    "plt.plot([0, 1], [0, 1],'g--')\n",
    "plt.xlim([0, 1])\n",
    "plt.ylim([0, 1])\n",
    "plt.ylabel('True Positive Rate')\n",
    "plt.xlabel('False Positive Rate')\n",
    "plt.show()\n"
   ]
  },
  {
   "cell_type": "markdown",
   "metadata": {},
   "source": [
    "# 3.5 Confusion Matrix"
   ]
  },
  {
   "cell_type": "code",
   "execution_count": 59,
   "metadata": {},
   "outputs": [
    {
     "data": {
      "image/png": "[encoded data removed]",
      "text/plain": [
       "<Figure size 432x288 with 2 Axes>"
      ]
     },
     "metadata": {
      "needs_background": "light"
     },
     "output_type": "display_data"
    }
   ],
   "source": [
    "# now using k=10 to train our model and \n",
    "# knn.n_neighbors=3\n",
    "# knn.fit(X_train_vect,y_train.ravel())\n",
    "# knn.score(X_test_vect,y_test.ravel())\n",
    "P=np.sum(y_test)\n",
    "N=len(y_test)-P\n",
    "y_pred=knn.predict(X_test_vect)\n",
    "con=confusion_matrix(y_test,y_pred)\n",
    "con[0]=(con[0]*100)/np.sum(con[0])\n",
    "con[1]=(con[1]*100)/np.sum(con[1])\n",
    "con=pd.DataFrame(con,index=['Negative','Positive'],columns=['Negative','Positive'])\n",
    "sns.heatmap(con,annot=True,fmt='d',cmap='coolwarm')\n",
    "plt.title('Confusion Matrix')\n",
    "plt.xlabel(\"predicted label\")\n",
    "plt.ylabel(\"true label\")\n",
    "plt.show()"
   ]
  },
  {
   "cell_type": "code",
   "execution_count": 60,
   "metadata": {},
   "outputs": [
    {
     "name": "stdout",
     "output_type": "stream",
     "text": [
      "Precision Score 0.6977611940298507\n",
      "Recall Score 0.6312236286919831\n",
      "F1 score 0.6628267611874168\n"
     ]
    }
   ],
   "source": [
    "y_pred=knn.predict(X_test_vect)\n",
    "print(\"Precision Score\",precision_score(y_test,y_pred))\n",
    "print(\"Recall Score\",recall_score(y_test,y_pred))\n",
    "print('F1 score',f1_score(y_test,y_pred))"
   ]
  },
  {
   "cell_type": "code",
   "execution_count": 61,
   "metadata": {},
   "outputs": [],
   "source": [
    "import winsound\n",
    "frequency =500# Set Frequency To 2500 Hertz\n",
    "duration = 1000 # Set Duration To 1000 ms == 1 second\n",
    "winsound.Beep(frequency, duration)"
   ]
  },
  {
   "cell_type": "code",
   "execution_count": null,
   "metadata": {},
   "outputs": [],
   "source": []
  },
  {
   "cell_type": "code",
   "execution_count": null,
   "metadata": {},
   "outputs": [],
   "source": []
  }
 ],
 "metadata": {
  "kernelspec": {
   "display_name": "Python 3",
   "language": "python",
   "name": "python3"
  },
  "language_info": {
   "codemirror_mode": {
    "name": "ipython",
    "version": 3
   },
   "file_extension": ".py",
   "mimetype": "text/x-python",
   "name": "python",
   "nbconvert_exporter": "python",
   "pygments_lexer": "ipython3",
   "version": "3.7.3"
  }
 },
 "nbformat": 4,
 "nbformat_minor": 2
}
